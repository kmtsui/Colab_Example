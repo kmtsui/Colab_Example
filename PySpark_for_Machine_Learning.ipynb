{
  "nbformat": 4,
  "nbformat_minor": 0,
  "metadata": {
    "colab": {
      "provenance": [],
      "include_colab_link": true
    },
    "kernelspec": {
      "name": "python3",
      "display_name": "Python 3"
    },
    "accelerator": "GPU"
  },
  "cells": [
    {
      "cell_type": "markdown",
      "metadata": {
        "id": "view-in-github",
        "colab_type": "text"
      },
      "source": [
        "<a href=\"https://colab.research.google.com/github/kmtsui/Colab_Example/blob/main/PySpark_for_Machine_Learning.ipynb\" target=\"_parent\"><img src=\"https://colab.research.google.com/assets/colab-badge.svg\" alt=\"Open In Colab\"/></a>"
      ]
    },
    {
      "cell_type": "markdown",
      "metadata": {
        "id": "PsoWfCwCfjiY"
      },
      "source": [
        "# PySpark for Machine Learning"
      ]
    },
    {
      "cell_type": "markdown",
      "metadata": {
        "id": "v4WGVGqfkQ6-"
      },
      "source": [
        "## 1. Introduction to Spark and MLlib "
      ]
    },
    {
      "cell_type": "markdown",
      "metadata": {
        "id": "306zLetlkYps"
      },
      "source": [
        "### Introduction to Spark"
      ]
    },
    {
      "cell_type": "markdown",
      "metadata": {
        "id": "uXiEg6-Hk0EA"
      },
      "source": [
        "1. Distributed - Runs in cluster of servers\n",
        "2. Processing - Performs computations, such as ETL and modeling\n",
        "3. Big Data - Terrabyte and more volumes of data"
      ]
    },
    {
      "cell_type": "markdown",
      "metadata": {
        "id": "n6nYwQhGk2AS"
      },
      "source": [
        "Supports  Multiple Languages\n",
        "1. Scala\n",
        "2. Java\n",
        "3. Python\n",
        "4. R"
      ]
    },
    {
      "cell_type": "markdown",
      "metadata": {
        "id": "xAxJhkyClFiz"
      },
      "source": [
        "Modular Architecture\n",
        "\n",
        "Apache Spark Core (MLlib, Spark SQL, Spark Streaming and GraphX)"
      ]
    },
    {
      "cell_type": "markdown",
      "metadata": {
        "id": "nw2CA-WrlSiI"
      },
      "source": [
        "Spark Use Cases\n",
        "1. Real time monitoring\n",
        "2. Text analysis\n",
        "3. Ecommerce pattern analysis\n",
        "4. Healthcare and genomic analysis"
      ]
    },
    {
      "cell_type": "markdown",
      "metadata": {
        "id": "iU3wjp--lhtL"
      },
      "source": [
        "### Steps in Machine Learning Process"
      ]
    },
    {
      "cell_type": "markdown",
      "metadata": {
        "id": "M6p4w0jOlq_O"
      },
      "source": [
        "1. Preprocessing - Collect, reformat, and transform data\n",
        "2. Model Building = Apply machine learning algorithms to training data\n",
        "3. Validation - Assess the quality of models built in step 2"
      ]
    },
    {
      "cell_type": "markdown",
      "metadata": {
        "id": "wYpRf-9Lme13"
      },
      "source": [
        "#### Preprocessing\n",
        "1. Extract, transform and load data to staging area\n",
        "2. Review data for missing data and invalid values\n",
        "3. Normalize and scale numeric data\n",
        "4. Standardize categorical values\n"
      ]
    },
    {
      "cell_type": "markdown",
      "metadata": {
        "id": "tdummfOnnSza"
      },
      "source": [
        "#### Model Building\n",
        "1. Selecting algorithms\n",
        "2. Executing algorithms to fit data to models\n",
        "3. Tuning hyperparameters"
      ]
    },
    {
      "cell_type": "markdown",
      "metadata": {
        "id": "eJQpwhZ4oGyd"
      },
      "source": [
        "#### Validating Models\n",
        "Applying models to additional test sets\n",
        "\n",
        "Measuring quality of models\n",
        "1. Accuracy\n",
        "2. Precision (positive predictive value)\n",
        "3. Sensitivity (recall)"
      ]
    },
    {
      "cell_type": "markdown",
      "metadata": {
        "id": "Nbm3Wnckr5Hx"
      },
      "source": [
        "### Setup PySpark for Google Colab Notebook"
      ]
    },
    {
      "cell_type": "code",
      "metadata": {
        "id": "bxcdWMfHfOxy"
      },
      "source": [
        "!apt-get install openjdk-8-jdk-headless -qq > /dev/null\n",
        "!wget -q https://downloads.apache.org/spark/spark-3.0.1/spark-3.0.1-bin-hadoop2.7.tgz\n",
        "\n",
        "!tar xf spark-3.0.1-bin-hadoop2.7.tgz\n",
        "!pip install -q findspark"
      ],
      "execution_count": null,
      "outputs": []
    },
    {
      "cell_type": "code",
      "metadata": {
        "id": "Yys18pq5fQNn"
      },
      "source": [
        "import os\n",
        "os.environ[\"JAVA_HOME\"] = \"/usr/lib/jvm/java-8-openjdk-amd64\"\n",
        "os.environ[\"SPARK_HOME\"] = \"/content/spark-3.0.1-bin-hadoop2.7\""
      ],
      "execution_count": null,
      "outputs": []
    },
    {
      "cell_type": "code",
      "metadata": {
        "id": "DvfBM08JfRpH"
      },
      "source": [
        "import findspark\n",
        "findspark.init()\n",
        "from pyspark.sql import SparkSession\n",
        "from pyspark import SparkConf, SparkContext\n",
        "\n",
        "spark = SparkSession.builder.master(\"local[*]\").getOrCreate()\n",
        "sc = SparkContext.getOrCreate();"
      ],
      "execution_count": null,
      "outputs": []
    },
    {
      "cell_type": "code",
      "metadata": {
        "id": "2MdER-EHrdrF"
      },
      "source": [
        "employeesTxtPath = '/content/drive/My Drive/Colab Notebooks/MMM_DEVELOPMENT/DATASETS/Ex_Files_Spark_ML_AI/Exercise Files/Ch01/01_04/employee.txt'\n",
        "clusteringDatasetPath = '/content/drive/My Drive/Colab Notebooks/MMM_DEVELOPMENT/DATASETS/Ex_Files_Spark_ML_AI/Exercise Files/Ch03/03_02/clustering_dataset.csv'\n",
        "irisTxtPath = '/content/drive/My Drive/Colab Notebooks/MMM_DEVELOPMENT/DATASETS/Ex_Files_Spark_ML_AI/Exercise Files/iris.txt'"
      ],
      "execution_count": null,
      "outputs": []
    },
    {
      "cell_type": "markdown",
      "metadata": {
        "id": "CHmWOhwYr-kc"
      },
      "source": [
        "### Organizing data in DataFrames"
      ]
    },
    {
      "cell_type": "code",
      "metadata": {
        "id": "bWCIihLbrzcr"
      },
      "source": [
        "empDF = spark.read.csv(employeesTxtPath, header=True)"
      ],
      "execution_count": null,
      "outputs": []
    },
    {
      "cell_type": "code",
      "metadata": {
        "id": "rCwEhXFjsJYv",
        "outputId": "cee893fe-2fd5-4c52-d296-f3e522059846",
        "colab": {
          "base_uri": "https://localhost:8080/"
        }
      },
      "source": [
        "empDF"
      ],
      "execution_count": null,
      "outputs": [
        {
          "output_type": "execute_result",
          "data": {
            "text/plain": [
              "DataFrame[id: string, last_name: string, email: string, gender: string, department: string, start_date: string, salary: string, job_title: string, region_id: string]"
            ]
          },
          "metadata": {
            "tags": []
          },
          "execution_count": 6
        }
      ]
    },
    {
      "cell_type": "code",
      "metadata": {
        "id": "ux2ZSqBCsMQN",
        "outputId": "94551050-7d2e-46e9-b11d-02bd881b4f48",
        "colab": {
          "base_uri": "https://localhost:8080/"
        }
      },
      "source": [
        "empDF.schema"
      ],
      "execution_count": null,
      "outputs": [
        {
          "output_type": "execute_result",
          "data": {
            "text/plain": [
              "StructType(List(StructField(id,StringType,true),StructField(last_name,StringType,true),StructField(email,StringType,true),StructField(gender,StringType,true),StructField(department,StringType,true),StructField(start_date,StringType,true),StructField(salary,StringType,true),StructField(job_title,StringType,true),StructField(region_id,StringType,true)))"
            ]
          },
          "metadata": {
            "tags": []
          },
          "execution_count": 7
        }
      ]
    },
    {
      "cell_type": "code",
      "metadata": {
        "id": "RQcRZBeFsV61",
        "outputId": "1bbfe54e-2bd0-4a3d-9611-d2d457c16b76",
        "colab": {
          "base_uri": "https://localhost:8080/"
        }
      },
      "source": [
        "empDF.printSchema()"
      ],
      "execution_count": null,
      "outputs": [
        {
          "output_type": "stream",
          "text": [
            "root\n",
            " |-- id: string (nullable = true)\n",
            " |-- last_name: string (nullable = true)\n",
            " |-- email: string (nullable = true)\n",
            " |-- gender: string (nullable = true)\n",
            " |-- department: string (nullable = true)\n",
            " |-- start_date: string (nullable = true)\n",
            " |-- salary: string (nullable = true)\n",
            " |-- job_title: string (nullable = true)\n",
            " |-- region_id: string (nullable = true)\n",
            "\n"
          ],
          "name": "stdout"
        }
      ]
    },
    {
      "cell_type": "code",
      "metadata": {
        "id": "gYWSoab6sYS2",
        "outputId": "298b76cb-da9d-440e-ae93-1f546613b9c3",
        "colab": {
          "base_uri": "https://localhost:8080/"
        }
      },
      "source": [
        "empDF.columns"
      ],
      "execution_count": null,
      "outputs": [
        {
          "output_type": "execute_result",
          "data": {
            "text/plain": [
              "['id',\n",
              " 'last_name',\n",
              " 'email',\n",
              " 'gender',\n",
              " 'department',\n",
              " 'start_date',\n",
              " 'salary',\n",
              " 'job_title',\n",
              " 'region_id']"
            ]
          },
          "metadata": {
            "tags": []
          },
          "execution_count": 9
        }
      ]
    },
    {
      "cell_type": "code",
      "metadata": {
        "id": "3zBn_7hAsbOH",
        "outputId": "5f2f0998-09e3-479f-8aba-206cdfa21f75",
        "colab": {
          "base_uri": "https://localhost:8080/"
        }
      },
      "source": [
        "empDF.take(5)"
      ],
      "execution_count": null,
      "outputs": [
        {
          "output_type": "execute_result",
          "data": {
            "text/plain": [
              "[Row(id='1', last_name=\"'Kelley'\", email=\"'rkelley0@soundcloud.com'\", gender=\"'Female'\", department=\"'Computers'\", start_date=\"'10/2/2009'\", salary='67470', job_title=\"'Structural Engineer'\", region_id='2'),\n",
              " Row(id='2', last_name=\"'Armstrong'\", email=\"'sarmstrong1@infoseek.co.jp'\", gender=\"'Male'\", department=\"'Sports'\", start_date=\"'3/31/2008'\", salary='71869', job_title=\"'Financial Advisor'\", region_id='2'),\n",
              " Row(id='3', last_name=\"'Carr'\", email=\"'fcarr2@woothemes.com'\", gender=\"'Male'\", department=\"'Automotive'\", start_date=\"'7/12/2009'\", salary='101768', job_title=\"'Recruiting Manager'\", region_id='3'),\n",
              " Row(id='4', last_name=\"'Murray'\", email=\"'jmurray3@gov.uk'\", gender=\"'Female'\", department=\"'Jewelery'\", start_date=\"'12/25/2014'\", salary='96897', job_title=\"'Desktop Support Technician'\", region_id='3'),\n",
              " Row(id='5', last_name=\"'Ellis'\", email=\"'jellis4@sciencedirect.com'\", gender=\"'Female'\", department=\"'Grocery'\", start_date=\"'9/19/2002'\", salary='63702', job_title=\"'Software Engineer III'\", region_id='7')]"
            ]
          },
          "metadata": {
            "tags": []
          },
          "execution_count": 10
        }
      ]
    },
    {
      "cell_type": "code",
      "metadata": {
        "id": "xCtQb-bSsfA0",
        "outputId": "e70e062c-cdf5-4724-c3c6-a833636e0070",
        "colab": {
          "base_uri": "https://localhost:8080/"
        }
      },
      "source": [
        "empDF.count()"
      ],
      "execution_count": null,
      "outputs": [
        {
          "output_type": "execute_result",
          "data": {
            "text/plain": [
              "1000"
            ]
          },
          "metadata": {
            "tags": []
          },
          "execution_count": 11
        }
      ]
    },
    {
      "cell_type": "code",
      "metadata": {
        "id": "d4dG6ET4shGi",
        "outputId": "756fd3f7-578b-4193-ec5b-f8761455b1a2",
        "colab": {
          "base_uri": "https://localhost:8080/"
        }
      },
      "source": [
        "sampleDF = empDF.sample(False, 0.1)\n",
        "sampleDF.count()"
      ],
      "execution_count": null,
      "outputs": [
        {
          "output_type": "execute_result",
          "data": {
            "text/plain": [
              "96"
            ]
          },
          "metadata": {
            "tags": []
          },
          "execution_count": 12
        }
      ]
    },
    {
      "cell_type": "code",
      "metadata": {
        "id": "bqNEQJvEs_Qy",
        "outputId": "fc018cb5-8da7-40d8-9cad-db094daef27a",
        "colab": {
          "base_uri": "https://localhost:8080/"
        }
      },
      "source": [
        "empMgrsDF = empDF.filter('salary >= 100000')\n",
        "empMgrsDF.count()"
      ],
      "execution_count": null,
      "outputs": [
        {
          "output_type": "execute_result",
          "data": {
            "text/plain": [
              "478"
            ]
          },
          "metadata": {
            "tags": []
          },
          "execution_count": 13
        }
      ]
    },
    {
      "cell_type": "code",
      "metadata": {
        "id": "1V1tdNCBtROQ",
        "outputId": "dc93e33f-6584-40a7-e150-4a97ba20b6a3",
        "colab": {
          "base_uri": "https://localhost:8080/"
        }
      },
      "source": [
        "empMgrsDF.show()"
      ],
      "execution_count": null,
      "outputs": [
        {
          "output_type": "stream",
          "text": [
            "+---+-----------+--------------------+--------+-------------+------------+------+--------------------+---------+\n",
            "| id|  last_name|               email|  gender|   department|  start_date|salary|           job_title|region_id|\n",
            "+---+-----------+--------------------+--------+-------------+------------+------+--------------------+---------+\n",
            "|  3|     'Carr'|'fcarr2@woothemes...|  'Male'| 'Automotive'| '7/12/2009'|101768|'Recruiting Manager'|        3|\n",
            "|  6| 'Phillips'|'bphillips5@time....|  'Male'|      'Tools'| '8/21/2013'|118497|'Executive Secret...|        1|\n",
            "|  9|    'James'|'rjames8@prnewswi...|  'Male'|   'Jewelery'|  '9/7/2005'|108657|   'Sales Associate'|        2|\n",
            "| 10|  'Sanchez'|'rsanchez9@cloudf...|  'Male'|     'Movies'| '3/13/2013'|108093|'Sales Representa...|        1|\n",
            "| 11|   'Jacobs'|'jjacobsa@sbwire....|'Female'|   'Jewelery'|'11/27/2003'|121966|'Community Outrea...|        7|\n",
            "| 15|   'Jacobs'|'ajacobse@google.it'|'Female'|      'Games'|  '3/4/2007'|141139|'Community Outrea...|        7|\n",
            "| 16|   'Medina'|'smedinaf@amazona...|'Female'|       'Baby'| '3/14/2008'|106659| 'Web Developer III'|        1|\n",
            "| 17|   'Morgan'|'dmorgang@123-reg...|'Female'|       'Kids'|  '5/4/2011'|148952|     'Programmer IV'|        6|\n",
            "| 19|      'Day'|'rdayi@chronoengi...|  'Male'|'Electronics'| '9/22/2004'|109890|          'VP Sales'|        3|\n",
            "| 20|     'Carr'|  'dcarrj@ocn.ne.jp'|'Female'|     'Movies'|'11/22/2007'|115274|'VP Quality Control'|        5|\n",
            "| 22|'Alexander'|'kalexanderl@mark...|  'Male'| 'Automotive'|'12/26/2011'|144724|'Marketing Assist...|        2|\n",
            "| 23|  'Chapman'|'jchapmanm@archiv...|'Female'|   'Jewelery'| '4/12/2001'|126103|  'Senior Developer'|        4|\n",
            "| 24|    'Kelly'| 'ekellyn@weibo.com'|  'Male'|     'Garden'| '6/29/2006'|144965|'Nurse Practicioner'|        2|\n",
            "| 31|   'Willis'| 'hwillisu@army.mil'|'Female'|      'Tools'|'10/21/2012'|113507|      'Accountant I'|        7|\n",
            "| 34|     'Reed'|  'areedx@cisco.com'|  'Male'|     'Movies'|'11/28/2002'|120579|'Assistant Media ...|        6|\n",
            "| 36|  'Bradley'|'nbradleyz@goodre...|  'Male'|   'Outdoors'|'12/28/2008'|107222|'Payment Adjustme...|        3|\n",
            "| 42|  'Watkins'|'mwatkins15@wiley...|  'Male'|  'Computers'|  '4/1/2008'|125668|'Executive Secret...|        7|\n",
            "| 44|  'Simmons'|'asimmons17@csmon...|  'Male'|     'Movies'|'12/21/2013'|113857|     'Developer III'|        2|\n",
            "| 45|   'Nguyen'|'mnguyen18@bibleg...|  'Male'| 'Automotive'| '1/24/2002'|108378|'Electrical Engin...|        7|\n",
            "| 46| 'Lawrence'|'jlawrence19@link...|  'Male'|   'Outdoors'|'12/11/2011'|133424|  'Junior Executive'|        7|\n",
            "+---+-----------+--------------------+--------+-------------+------------+------+--------------------+---------+\n",
            "only showing top 20 rows\n",
            "\n"
          ],
          "name": "stdout"
        }
      ]
    },
    {
      "cell_type": "markdown",
      "metadata": {
        "id": "9ajdNCbvt834"
      },
      "source": [
        "### Components of Spark MLlib"
      ]
    },
    {
      "cell_type": "markdown",
      "metadata": {
        "id": "PvbyoIMwuBxH"
      },
      "source": [
        "SparkML Algorithms\n",
        "1. Classification\n",
        "2. Regression\n",
        "3. Clustering\n",
        "4. Topic Modeling "
      ]
    },
    {
      "cell_type": "markdown",
      "metadata": {
        "id": "Xd7AKP82uPMU"
      },
      "source": [
        "SparkML Workflows\n",
        "1. Feature transformations\n",
        "2. pipelines\n",
        "3. Evaluations\n",
        "4. Hyperparameter tuning"
      ]
    },
    {
      "cell_type": "markdown",
      "metadata": {
        "id": "8YMjizp8usd9"
      },
      "source": [
        "#### Utilities\n",
        "1. Distributed math libaries\n",
        "2. Distributed statistic functions"
      ]
    },
    {
      "cell_type": "markdown",
      "metadata": {
        "id": "4apWqOiQgb_l"
      },
      "source": [
        "## 2. Spark Data Preparation and Transformation"
      ]
    },
    {
      "cell_type": "markdown",
      "metadata": {
        "id": "pEsXiY_8giIa"
      },
      "source": [
        "### Introduction to Preprocessing"
      ]
    },
    {
      "cell_type": "markdown",
      "metadata": {
        "id": "2-DxZ7gygmSD"
      },
      "source": [
        "Numeric: Normalize\n",
        "\n",
        "1. Maps data values from their original range to the range of 0 to 1\n",
        "\n",
        "2. Avoids problems when some attributes have large ranges and others have small ranges"
      ]
    },
    {
      "cell_type": "markdown",
      "metadata": {
        "id": "twP7i3I2gy-m"
      },
      "source": [
        "Numeric: Standardize\n",
        "\n",
        "1. Maps data values from their original range to -1 to 1\n",
        "2. Mean value of 0\n",
        "3. Normally distributed with standard deviation of 1\n",
        "4. Used when attributes have different scales and ML algorithms assume a normal distribution"
      ]
    },
    {
      "cell_type": "markdown",
      "metadata": {
        "id": "B2Fov15dhPVZ"
      },
      "source": [
        "Numeric: Partitioning\n",
        "\n",
        "1. Map data values from continuous values to buckets\n",
        "2. Deciles and percentiles are examples of buckets\n",
        "3. Useful when you want to work with groups of values instead of a continuous range of values"
      ]
    },
    {
      "cell_type": "markdown",
      "metadata": {
        "id": "RYWtDfVPhiyI"
      },
      "source": [
        "Text: Tokenizing\n",
        "\n",
        "Map text from a single string to a set of tokens or words "
      ]
    },
    {
      "cell_type": "markdown",
      "metadata": {
        "id": "KsUlQ2y9huoZ"
      },
      "source": [
        "Text: TF-IDF\n",
        "\n",
        "1. Map text from a single, typically long string, to a vector indicating the frequency of each word in a text relative to a group of texts\n",
        "\n",
        "2. Widely used in text classifications\n",
        "\n",
        "3. Infrequently used words are more useful for distinguishing categories of text"
      ]
    },
    {
      "cell_type": "markdown",
      "metadata": {
        "id": "9lg4XvMRiKzv"
      },
      "source": [
        "### Normalizing Numeric Data"
      ]
    },
    {
      "cell_type": "code",
      "metadata": {
        "id": "TcG3Z51xtZM1"
      },
      "source": [
        "from pyspark.ml.feature import MinMaxScaler \n",
        "from pyspark.ml.linalg import Vectors"
      ],
      "execution_count": null,
      "outputs": []
    },
    {
      "cell_type": "code",
      "metadata": {
        "id": "8zQ15BWbig8k"
      },
      "source": [
        "featuresDF = spark.createDataFrame([\n",
        "                                    (1, Vectors.dense([10.0, 10000.0, 1.0]),),\n",
        "                                    (1, Vectors.dense([20.0, 30000.0, 2.0]),),\n",
        "                                    (1, Vectors.dense([30.0, 40000.0, 3.0]),)\n",
        "                                    ], ['id', 'features'])"
      ],
      "execution_count": null,
      "outputs": []
    },
    {
      "cell_type": "code",
      "metadata": {
        "id": "XABA_1Q2T6Ed",
        "outputId": "620f0a38-e864-4c05-f7f0-e985a2de49fe",
        "colab": {
          "base_uri": "https://localhost:8080/"
        }
      },
      "source": [
        "featuresDF.show()"
      ],
      "execution_count": null,
      "outputs": [
        {
          "output_type": "stream",
          "text": [
            "+---+------------------+\n",
            "| id|          features|\n",
            "+---+------------------+\n",
            "|  1|[10.0,10000.0,1.0]|\n",
            "|  1|[20.0,30000.0,2.0]|\n",
            "|  1|[30.0,40000.0,3.0]|\n",
            "+---+------------------+\n",
            "\n"
          ],
          "name": "stdout"
        }
      ]
    },
    {
      "cell_type": "code",
      "metadata": {
        "id": "TTdT3wvxjHVd",
        "outputId": "e05bb8a4-55da-4397-f3e4-b4d120457ca0",
        "colab": {
          "base_uri": "https://localhost:8080/"
        }
      },
      "source": [
        "featuresDF.take(1)"
      ],
      "execution_count": null,
      "outputs": [
        {
          "output_type": "execute_result",
          "data": {
            "text/plain": [
              "[Row(id=1, features=DenseVector([10.0, 10000.0, 1.0]))]"
            ]
          },
          "metadata": {
            "tags": []
          },
          "execution_count": 18
        }
      ]
    },
    {
      "cell_type": "code",
      "metadata": {
        "id": "gXYqi-0NjJbm"
      },
      "source": [
        "featureScaler = MinMaxScaler(inputCol='features', outputCol='sfeatures')"
      ],
      "execution_count": null,
      "outputs": []
    },
    {
      "cell_type": "code",
      "metadata": {
        "id": "zfXkJ19ylqSs"
      },
      "source": [
        "smodel = featureScaler.fit(featuresDF)"
      ],
      "execution_count": null,
      "outputs": []
    },
    {
      "cell_type": "code",
      "metadata": {
        "id": "ImfwMM4ul7-k"
      },
      "source": [
        "sfeaturesDF = smodel.transform(featuresDF)"
      ],
      "execution_count": null,
      "outputs": []
    },
    {
      "cell_type": "code",
      "metadata": {
        "id": "osYnrkDWmHIv",
        "outputId": "8daf6c47-a34d-4853-eff5-5140ee8aeac4",
        "colab": {
          "base_uri": "https://localhost:8080/"
        }
      },
      "source": [
        "sfeaturesDF.take(1)"
      ],
      "execution_count": null,
      "outputs": [
        {
          "output_type": "execute_result",
          "data": {
            "text/plain": [
              "[Row(id=1, features=DenseVector([10.0, 10000.0, 1.0]), sfeatures=SparseVector(3, {}))]"
            ]
          },
          "metadata": {
            "tags": []
          },
          "execution_count": 22
        }
      ]
    },
    {
      "cell_type": "code",
      "metadata": {
        "id": "TdrAL-7QmPoT",
        "outputId": "f2d0553f-eeb8-45b4-a096-8f509b688bed",
        "colab": {
          "base_uri": "https://localhost:8080/"
        }
      },
      "source": [
        "sfeaturesDF.select('features', 'sfeatures').show()"
      ],
      "execution_count": null,
      "outputs": [
        {
          "output_type": "stream",
          "text": [
            "+------------------+--------------------+\n",
            "|          features|           sfeatures|\n",
            "+------------------+--------------------+\n",
            "|[10.0,10000.0,1.0]|           (3,[],[])|\n",
            "|[20.0,30000.0,2.0]|[0.5,0.6666666666...|\n",
            "|[30.0,40000.0,3.0]|       [1.0,1.0,1.0]|\n",
            "+------------------+--------------------+\n",
            "\n"
          ],
          "name": "stdout"
        }
      ]
    },
    {
      "cell_type": "markdown",
      "metadata": {
        "id": "KbVSjoOdmf04"
      },
      "source": [
        "### Standardize Spark Data"
      ]
    },
    {
      "cell_type": "code",
      "metadata": {
        "id": "iKjFBjRamYFq"
      },
      "source": [
        "from pyspark.ml.feature import StandardScaler\n",
        "from pyspark.ml.linalg import Vectors"
      ],
      "execution_count": null,
      "outputs": []
    },
    {
      "cell_type": "code",
      "metadata": {
        "id": "clRde9V2mxTt"
      },
      "source": [
        "featuresDF = spark.createDataFrame([\n",
        "                                    (1, Vectors.dense([10.0, 10000.0, 1.0]),),\n",
        "                                    (1, Vectors.dense([20.0, 30000.0, 2.0]),),\n",
        "                                    (1, Vectors.dense([30.0, 40000.0, 3.0]),)\n",
        "                                    ], ['id', 'features'])"
      ],
      "execution_count": null,
      "outputs": []
    },
    {
      "cell_type": "code",
      "metadata": {
        "id": "tXWAtgaPnMO-",
        "outputId": "5765b060-6c0a-4a94-c561-11be1791fa8e",
        "colab": {
          "base_uri": "https://localhost:8080/"
        }
      },
      "source": [
        "featuresDF.take(1)"
      ],
      "execution_count": null,
      "outputs": [
        {
          "output_type": "execute_result",
          "data": {
            "text/plain": [
              "[Row(id=1, features=DenseVector([10.0, 10000.0, 1.0]))]"
            ]
          },
          "metadata": {
            "tags": []
          },
          "execution_count": 26
        }
      ]
    },
    {
      "cell_type": "code",
      "metadata": {
        "id": "eJkHwiLMnOWM"
      },
      "source": [
        "featureStandardScaler = StandardScaler(inputCol='features', outputCol='sfeatures', withStd=True, withMean=True)"
      ],
      "execution_count": null,
      "outputs": []
    },
    {
      "cell_type": "code",
      "metadata": {
        "id": "3J4LYsPVnkW0"
      },
      "source": [
        "standardSModel = featureStandardScaler.fit(featuresDF)"
      ],
      "execution_count": null,
      "outputs": []
    },
    {
      "cell_type": "code",
      "metadata": {
        "id": "Q6-Q1L7nnpX1"
      },
      "source": [
        "standardSFeaturesDF = standardSModel.transform(featuresDF)"
      ],
      "execution_count": null,
      "outputs": []
    },
    {
      "cell_type": "code",
      "metadata": {
        "id": "jBtx2YzwnwwN",
        "outputId": "c7a2a216-d7fd-42cc-88cc-61c4045671ef",
        "colab": {
          "base_uri": "https://localhost:8080/"
        }
      },
      "source": [
        "standardSFeaturesDF.take(1)"
      ],
      "execution_count": null,
      "outputs": [
        {
          "output_type": "execute_result",
          "data": {
            "text/plain": [
              "[Row(id=1, features=DenseVector([10.0, 10000.0, 1.0]), sfeatures=DenseVector([-1.0, -1.0911, -1.0]))]"
            ]
          },
          "metadata": {
            "tags": []
          },
          "execution_count": 30
        }
      ]
    },
    {
      "cell_type": "markdown",
      "metadata": {
        "id": "c0WGsjxWoQaw"
      },
      "source": [
        "### Bucketize Numeric Data"
      ]
    },
    {
      "cell_type": "code",
      "metadata": {
        "id": "PeCVp7hGn3kC"
      },
      "source": [
        "from pyspark.ml.feature import Bucketizer\n",
        "splits = [-float('inf'), -10.0, 0.0, 10.0, float('inf')]"
      ],
      "execution_count": null,
      "outputs": []
    },
    {
      "cell_type": "code",
      "metadata": {
        "id": "KEhjOUKpow1N"
      },
      "source": [
        "bData = [(-800.0,), (-10.5,),(-1.7,),(0.0,),(8.2,),(90.1,)]"
      ],
      "execution_count": null,
      "outputs": []
    },
    {
      "cell_type": "code",
      "metadata": {
        "id": "iu3QB67apGJE"
      },
      "source": [
        "bDF = spark.createDataFrame(bData, ['features'])"
      ],
      "execution_count": null,
      "outputs": []
    },
    {
      "cell_type": "code",
      "metadata": {
        "id": "PM5DyFS7pLis",
        "outputId": "66e5f14c-08e8-4d5e-9978-59fb6b30129b",
        "colab": {
          "base_uri": "https://localhost:8080/"
        }
      },
      "source": [
        "bDF.show()"
      ],
      "execution_count": null,
      "outputs": [
        {
          "output_type": "stream",
          "text": [
            "+--------+\n",
            "|features|\n",
            "+--------+\n",
            "|  -800.0|\n",
            "|   -10.5|\n",
            "|    -1.7|\n",
            "|     0.0|\n",
            "|     8.2|\n",
            "|    90.1|\n",
            "+--------+\n",
            "\n"
          ],
          "name": "stdout"
        }
      ]
    },
    {
      "cell_type": "code",
      "metadata": {
        "id": "bFVN_ZKUpM8C"
      },
      "source": [
        "bucketizer = Bucketizer(splits=splits, inputCol='features', outputCol='bfeatures')"
      ],
      "execution_count": null,
      "outputs": []
    },
    {
      "cell_type": "code",
      "metadata": {
        "id": "D710XgXdqFax"
      },
      "source": [
        "bucketedDF = bucketizer.transform(bDF)"
      ],
      "execution_count": null,
      "outputs": []
    },
    {
      "cell_type": "code",
      "metadata": {
        "id": "gNSbhgsdqKTs",
        "outputId": "ae150d69-6690-4b8f-dbcc-a2add06b7359",
        "colab": {
          "base_uri": "https://localhost:8080/"
        }
      },
      "source": [
        "bucketedDF.show()"
      ],
      "execution_count": null,
      "outputs": [
        {
          "output_type": "stream",
          "text": [
            "+--------+---------+\n",
            "|features|bfeatures|\n",
            "+--------+---------+\n",
            "|  -800.0|      0.0|\n",
            "|   -10.5|      0.0|\n",
            "|    -1.7|      1.0|\n",
            "|     0.0|      2.0|\n",
            "|     8.2|      2.0|\n",
            "|    90.1|      3.0|\n",
            "+--------+---------+\n",
            "\n"
          ],
          "name": "stdout"
        }
      ]
    },
    {
      "cell_type": "markdown",
      "metadata": {
        "id": "F9ZZCzNmrcDm"
      },
      "source": [
        "### Tokenize Text Data"
      ]
    },
    {
      "cell_type": "code",
      "metadata": {
        "id": "b382d9XqqNra"
      },
      "source": [
        "from pyspark.ml.feature import Tokenizer"
      ],
      "execution_count": null,
      "outputs": []
    },
    {
      "cell_type": "code",
      "metadata": {
        "id": "Pn8XaNxJsMRp"
      },
      "source": [
        "sentencesDF = spark.createDataFrame([\n",
        "                                    (1, 'this is an introduction to spark mllib'),\n",
        "                                    (2, 'mllib contains libraries for classification and regression'),\n",
        "                                    (1, 'it also contains supporting tools for pipelines')\n",
        "                                    ], ['id', 'sentence'])"
      ],
      "execution_count": null,
      "outputs": []
    },
    {
      "cell_type": "code",
      "metadata": {
        "id": "yFjx78O7spzn",
        "outputId": "123c7ecf-a614-4de7-8e47-e1f233311fe5",
        "colab": {
          "base_uri": "https://localhost:8080/"
        }
      },
      "source": [
        "sentencesDF.show()"
      ],
      "execution_count": null,
      "outputs": [
        {
          "output_type": "stream",
          "text": [
            "+---+--------------------+\n",
            "| id|            sentence|\n",
            "+---+--------------------+\n",
            "|  1|this is an introd...|\n",
            "|  2|mllib contains li...|\n",
            "|  1|it also contains ...|\n",
            "+---+--------------------+\n",
            "\n"
          ],
          "name": "stdout"
        }
      ]
    },
    {
      "cell_type": "code",
      "metadata": {
        "id": "TmvDE3SjstKI"
      },
      "source": [
        "sentToken = Tokenizer(inputCol='sentence', outputCol='words')"
      ],
      "execution_count": null,
      "outputs": []
    },
    {
      "cell_type": "code",
      "metadata": {
        "id": "ETXCtGm1s25S"
      },
      "source": [
        "sentTokenizedDF = sentToken.transform(sentencesDF)"
      ],
      "execution_count": null,
      "outputs": []
    },
    {
      "cell_type": "code",
      "metadata": {
        "id": "bj3XhNvktCa0",
        "outputId": "b8a1b97b-0ec4-4574-edd3-531df299f101",
        "colab": {
          "base_uri": "https://localhost:8080/"
        }
      },
      "source": [
        "sentTokenizedDF.show(truncate=False)"
      ],
      "execution_count": null,
      "outputs": [
        {
          "output_type": "stream",
          "text": [
            "+---+----------------------------------------------------------+------------------------------------------------------------------+\n",
            "|id |sentence                                                  |words                                                             |\n",
            "+---+----------------------------------------------------------+------------------------------------------------------------------+\n",
            "|1  |this is an introduction to spark mllib                    |[this, is, an, introduction, to, spark, mllib]                    |\n",
            "|2  |mllib contains libraries for classification and regression|[mllib, contains, libraries, for, classification, and, regression]|\n",
            "|1  |it also contains supporting tools for pipelines           |[it, also, contains, supporting, tools, for, pipelines]           |\n",
            "+---+----------------------------------------------------------+------------------------------------------------------------------+\n",
            "\n"
          ],
          "name": "stdout"
        }
      ]
    },
    {
      "cell_type": "markdown",
      "metadata": {
        "id": "GMpVh5SntWhD"
      },
      "source": [
        "### TF-IDF (Term Frequency Inverse Document Frequency)"
      ]
    },
    {
      "cell_type": "code",
      "metadata": {
        "id": "bQnTDFy0tH-W"
      },
      "source": [
        "from pyspark.ml.feature import HashingTF, IDF"
      ],
      "execution_count": null,
      "outputs": []
    },
    {
      "cell_type": "code",
      "metadata": {
        "id": "4y5bnHsSt5eN",
        "outputId": "18e84f5f-a8f5-4f29-a997-68f5e09da96c",
        "colab": {
          "base_uri": "https://localhost:8080/"
        }
      },
      "source": [
        "sentencesDF"
      ],
      "execution_count": null,
      "outputs": [
        {
          "output_type": "execute_result",
          "data": {
            "text/plain": [
              "DataFrame[id: bigint, sentence: string]"
            ]
          },
          "metadata": {
            "tags": []
          },
          "execution_count": 45
        }
      ]
    },
    {
      "cell_type": "code",
      "metadata": {
        "id": "0iIPJqH0t9cO",
        "outputId": "7649463a-2c34-4831-868c-40eb5df3dae2",
        "colab": {
          "base_uri": "https://localhost:8080/"
        }
      },
      "source": [
        "sentencesDF.take(1)"
      ],
      "execution_count": null,
      "outputs": [
        {
          "output_type": "execute_result",
          "data": {
            "text/plain": [
              "[Row(id=1, sentence='this is an introduction to spark mllib')]"
            ]
          },
          "metadata": {
            "tags": []
          },
          "execution_count": 46
        }
      ]
    },
    {
      "cell_type": "code",
      "metadata": {
        "id": "Bua-KwpcuAGp",
        "outputId": "ce8ed284-ad2c-46a2-d23e-f68876a53eb8",
        "colab": {
          "base_uri": "https://localhost:8080/"
        }
      },
      "source": [
        "sentTokenizedDF.take(1)"
      ],
      "execution_count": null,
      "outputs": [
        {
          "output_type": "execute_result",
          "data": {
            "text/plain": [
              "[Row(id=1, sentence='this is an introduction to spark mllib', words=['this', 'is', 'an', 'introduction', 'to', 'spark', 'mllib'])]"
            ]
          },
          "metadata": {
            "tags": []
          },
          "execution_count": 47
        }
      ]
    },
    {
      "cell_type": "code",
      "metadata": {
        "id": "kJKT3YlpuElJ"
      },
      "source": [
        "hashingTF = HashingTF(inputCol='words', outputCol = 'rawFeatures', numFeatures=20)"
      ],
      "execution_count": null,
      "outputs": []
    },
    {
      "cell_type": "code",
      "metadata": {
        "id": "iHtPg0i5uWHb"
      },
      "source": [
        "sentHFTFDF = hashingTF.transform(sentTokenizedDF)"
      ],
      "execution_count": null,
      "outputs": []
    },
    {
      "cell_type": "code",
      "metadata": {
        "id": "VZEB1Wcoukpi",
        "outputId": "b7bd77e8-c5cc-4125-9fed-d0c4183452aa",
        "colab": {
          "base_uri": "https://localhost:8080/"
        }
      },
      "source": [
        "sentHFTFDF.take(1)"
      ],
      "execution_count": null,
      "outputs": [
        {
          "output_type": "execute_result",
          "data": {
            "text/plain": [
              "[Row(id=1, sentence='this is an introduction to spark mllib', words=['this', 'is', 'an', 'introduction', 'to', 'spark', 'mllib'], rawFeatures=SparseVector(20, {6: 2.0, 8: 1.0, 9: 1.0, 10: 1.0, 13: 1.0, 15: 1.0}))]"
            ]
          },
          "metadata": {
            "tags": []
          },
          "execution_count": 50
        }
      ]
    },
    {
      "cell_type": "code",
      "metadata": {
        "id": "M_d0YTNRuqv7"
      },
      "source": [
        "IDF = IDF(inputCol='rawFeatures', outputCol='idfFeatures')"
      ],
      "execution_count": null,
      "outputs": []
    },
    {
      "cell_type": "code",
      "metadata": {
        "id": "ET13MX1Au5Rl"
      },
      "source": [
        "IDFModel = IDF.fit(sentHFTFDF)"
      ],
      "execution_count": null,
      "outputs": []
    },
    {
      "cell_type": "code",
      "metadata": {
        "id": "LqnIq7sevBgF"
      },
      "source": [
        "TFIDFDF = IDFModel.transform(sentHFTFDF)"
      ],
      "execution_count": null,
      "outputs": []
    },
    {
      "cell_type": "code",
      "metadata": {
        "id": "Ps2uspvpvkP4",
        "outputId": "67064da2-fa4f-417c-8486-59705fd74cce",
        "colab": {
          "base_uri": "https://localhost:8080/"
        }
      },
      "source": [
        "TFIDFDF.take(1)"
      ],
      "execution_count": null,
      "outputs": [
        {
          "output_type": "execute_result",
          "data": {
            "text/plain": [
              "[Row(id=1, sentence='this is an introduction to spark mllib', words=['this', 'is', 'an', 'introduction', 'to', 'spark', 'mllib'], rawFeatures=SparseVector(20, {6: 2.0, 8: 1.0, 9: 1.0, 10: 1.0, 13: 1.0, 15: 1.0}), idfFeatures=SparseVector(20, {6: 0.5754, 8: 0.0, 9: 0.6931, 10: 0.6931, 13: 0.6931, 15: 0.2877}))]"
            ]
          },
          "metadata": {
            "tags": []
          },
          "execution_count": 54
        }
      ]
    },
    {
      "cell_type": "markdown",
      "metadata": {
        "id": "rwPk2AdDwRB8"
      },
      "source": [
        "## 3. Clustering with Spark MLlib"
      ]
    },
    {
      "cell_type": "markdown",
      "metadata": {
        "id": "otAlIjVGwasx"
      },
      "source": [
        "### Introduction to Clustering\n",
        "\n",
        "Clustering algorithms group data into clusters that allow us to see how large data sets can break down into distinct subgroups \n",
        "\n",
        "K-means is widely used and works well for finding clusters in small and mid-sized data sets \n",
        "\n",
        "For large data sets, the Bisecting K-means algorithms can be faster"
      ]
    },
    {
      "cell_type": "markdown",
      "metadata": {
        "id": "fK-wO1aLwrgl"
      },
      "source": [
        "### K-means Clustering in Spark"
      ]
    },
    {
      "cell_type": "code",
      "metadata": {
        "id": "ZDZDVnFnwvP7"
      },
      "source": [
        "from pyspark.ml.linalg import Vectors\n",
        "from pyspark.ml.feature import VectorAssembler\n",
        "from pyspark.ml.clustering import KMeans"
      ],
      "execution_count": null,
      "outputs": []
    },
    {
      "cell_type": "code",
      "metadata": {
        "id": "YaNfMjkfwVD_"
      },
      "source": [
        "clusterDF = spark.read.csv(clusteringDatasetPath, header=True, inferSchema=True)"
      ],
      "execution_count": null,
      "outputs": []
    },
    {
      "cell_type": "code",
      "metadata": {
        "id": "Ye5yutTBvth8",
        "outputId": "a047d7e3-fbe8-4022-ed2a-3d81c170a57c",
        "colab": {
          "base_uri": "https://localhost:8080/"
        }
      },
      "source": [
        "clusterDF"
      ],
      "execution_count": null,
      "outputs": [
        {
          "output_type": "execute_result",
          "data": {
            "text/plain": [
              "DataFrame[col1: int, col2: int, col3: int]"
            ]
          },
          "metadata": {
            "tags": []
          },
          "execution_count": 57
        }
      ]
    },
    {
      "cell_type": "code",
      "metadata": {
        "id": "NnJ32zNTxWCW",
        "outputId": "9c65390c-ae1d-4db5-c64d-770ea4ecfb94",
        "colab": {
          "base_uri": "https://localhost:8080/"
        }
      },
      "source": [
        "clusterDF.show(100, truncate=False)"
      ],
      "execution_count": null,
      "outputs": [
        {
          "output_type": "stream",
          "text": [
            "+----+----+----+\n",
            "|col1|col2|col3|\n",
            "+----+----+----+\n",
            "|7   |4   |1   |\n",
            "|7   |7   |9   |\n",
            "|7   |9   |6   |\n",
            "|1   |6   |5   |\n",
            "|6   |7   |7   |\n",
            "|7   |9   |4   |\n",
            "|7   |10  |6   |\n",
            "|7   |8   |2   |\n",
            "|8   |3   |8   |\n",
            "|4   |10  |5   |\n",
            "|7   |4   |5   |\n",
            "|7   |8   |4   |\n",
            "|2   |5   |1   |\n",
            "|2   |6   |2   |\n",
            "|2   |3   |8   |\n",
            "|3   |9   |1   |\n",
            "|4   |2   |9   |\n",
            "|1   |7   |1   |\n",
            "|6   |2   |3   |\n",
            "|4   |1   |9   |\n",
            "|4   |8   |5   |\n",
            "|6   |6   |7   |\n",
            "|4   |6   |2   |\n",
            "|8   |1   |1   |\n",
            "|7   |5   |10  |\n",
            "|17  |25  |21  |\n",
            "|15  |23  |32  |\n",
            "|42  |25  |45  |\n",
            "|41  |47  |21  |\n",
            "|37  |20  |27  |\n",
            "|40  |18  |26  |\n",
            "|41  |28  |50  |\n",
            "|32  |25  |40  |\n",
            "|24  |29  |35  |\n",
            "|47  |18  |47  |\n",
            "|36  |42  |45  |\n",
            "|49  |29  |15  |\n",
            "|47  |39  |22  |\n",
            "|38  |27  |25  |\n",
            "|45  |23  |40  |\n",
            "|23  |36  |19  |\n",
            "|47  |40  |50  |\n",
            "|37  |30  |40  |\n",
            "|42  |48  |41  |\n",
            "|29  |31  |21  |\n",
            "|36  |39  |48  |\n",
            "|50  |24  |31  |\n",
            "|42  |44  |37  |\n",
            "|37  |39  |46  |\n",
            "|22  |40  |30  |\n",
            "|17  |29  |41  |\n",
            "|85  |100 |69  |\n",
            "|68  |76  |67  |\n",
            "|76  |70  |93  |\n",
            "|62  |66  |91  |\n",
            "|83  |93  |76  |\n",
            "|95  |72  |63  |\n",
            "|75  |94  |95  |\n",
            "|83  |72  |80  |\n",
            "|93  |87  |76  |\n",
            "|86  |93  |63  |\n",
            "|97  |82  |75  |\n",
            "|61  |74  |74  |\n",
            "|84  |90  |100 |\n",
            "|77  |67  |97  |\n",
            "|61  |82  |73  |\n",
            "|81  |60  |69  |\n",
            "|67  |80  |98  |\n",
            "|94  |82  |60  |\n",
            "|69  |73  |74  |\n",
            "|74  |96  |80  |\n",
            "|86  |62  |61  |\n",
            "|88  |68  |95  |\n",
            "|99  |67  |80  |\n",
            "|76  |95  |70  |\n",
            "+----+----+----+\n",
            "\n"
          ],
          "name": "stdout"
        }
      ]
    },
    {
      "cell_type": "code",
      "metadata": {
        "id": "kKyX9TA0xY3D"
      },
      "source": [
        "vectorAssembler = VectorAssembler(inputCols=['col1', 'col2', 'col3'], outputCol='features')"
      ],
      "execution_count": null,
      "outputs": []
    },
    {
      "cell_type": "code",
      "metadata": {
        "id": "fSD3PZ6Vxsw0"
      },
      "source": [
        "vclusterDF = vectorAssembler.transform(clusterDF)"
      ],
      "execution_count": null,
      "outputs": []
    },
    {
      "cell_type": "code",
      "metadata": {
        "id": "9cfwxKqJx3J1",
        "outputId": "617c4ebe-4321-4767-c101-0146e9b89694",
        "colab": {
          "base_uri": "https://localhost:8080/"
        }
      },
      "source": [
        "vclusterDF.show()"
      ],
      "execution_count": null,
      "outputs": [
        {
          "output_type": "stream",
          "text": [
            "+----+----+----+--------------+\n",
            "|col1|col2|col3|      features|\n",
            "+----+----+----+--------------+\n",
            "|   7|   4|   1| [7.0,4.0,1.0]|\n",
            "|   7|   7|   9| [7.0,7.0,9.0]|\n",
            "|   7|   9|   6| [7.0,9.0,6.0]|\n",
            "|   1|   6|   5| [1.0,6.0,5.0]|\n",
            "|   6|   7|   7| [6.0,7.0,7.0]|\n",
            "|   7|   9|   4| [7.0,9.0,4.0]|\n",
            "|   7|  10|   6|[7.0,10.0,6.0]|\n",
            "|   7|   8|   2| [7.0,8.0,2.0]|\n",
            "|   8|   3|   8| [8.0,3.0,8.0]|\n",
            "|   4|  10|   5|[4.0,10.0,5.0]|\n",
            "|   7|   4|   5| [7.0,4.0,5.0]|\n",
            "|   7|   8|   4| [7.0,8.0,4.0]|\n",
            "|   2|   5|   1| [2.0,5.0,1.0]|\n",
            "|   2|   6|   2| [2.0,6.0,2.0]|\n",
            "|   2|   3|   8| [2.0,3.0,8.0]|\n",
            "|   3|   9|   1| [3.0,9.0,1.0]|\n",
            "|   4|   2|   9| [4.0,2.0,9.0]|\n",
            "|   1|   7|   1| [1.0,7.0,1.0]|\n",
            "|   6|   2|   3| [6.0,2.0,3.0]|\n",
            "|   4|   1|   9| [4.0,1.0,9.0]|\n",
            "+----+----+----+--------------+\n",
            "only showing top 20 rows\n",
            "\n"
          ],
          "name": "stdout"
        }
      ]
    },
    {
      "cell_type": "code",
      "metadata": {
        "id": "8fjIaB2gx7OG"
      },
      "source": [
        "kmeans = KMeans().setK(3)"
      ],
      "execution_count": null,
      "outputs": []
    },
    {
      "cell_type": "code",
      "metadata": {
        "id": "HVW2n0kEyB29"
      },
      "source": [
        "kmeans = kmeans.setSeed(1)"
      ],
      "execution_count": null,
      "outputs": []
    },
    {
      "cell_type": "code",
      "metadata": {
        "id": "f6__GZ0HyVHB"
      },
      "source": [
        "kmodel = kmeans.fit(vclusterDF)"
      ],
      "execution_count": null,
      "outputs": []
    },
    {
      "cell_type": "code",
      "metadata": {
        "id": "6JEjtfnXyctb"
      },
      "source": [
        "centers = kmodel.clusterCenters()"
      ],
      "execution_count": null,
      "outputs": []
    },
    {
      "cell_type": "code",
      "metadata": {
        "id": "O_ZFHQlWyoGl",
        "outputId": "54a2c371-aa26-4eae-e45c-a18d19aea109",
        "colab": {
          "base_uri": "https://localhost:8080/"
        }
      },
      "source": [
        "# this will print out the 3 sets of clusters for your dataset vclusterDF\n",
        "centers"
      ],
      "execution_count": null,
      "outputs": [
        {
          "output_type": "execute_result",
          "data": {
            "text/plain": [
              "[array([35.88461538, 31.46153846, 34.42307692]),\n",
              " array([80.        , 79.20833333, 78.29166667]),\n",
              " array([5.12, 5.84, 4.84])]"
            ]
          },
          "metadata": {
            "tags": []
          },
          "execution_count": 66
        }
      ]
    },
    {
      "cell_type": "markdown",
      "metadata": {
        "id": "7QwLfZiFy_Vb"
      },
      "source": [
        "### Hierarchical Clustering in Spark"
      ]
    },
    {
      "cell_type": "code",
      "metadata": {
        "id": "zdTjBawBzJKJ"
      },
      "source": [
        "from pyspark.ml.clustering import BisectingKMeans"
      ],
      "execution_count": null,
      "outputs": []
    },
    {
      "cell_type": "code",
      "metadata": {
        "id": "hF0K17JEypjr",
        "outputId": "a562445d-b537-4cf4-d786-60c22eb152b0",
        "colab": {
          "base_uri": "https://localhost:8080/"
        }
      },
      "source": [
        "clusterDF.show()"
      ],
      "execution_count": null,
      "outputs": [
        {
          "output_type": "stream",
          "text": [
            "+----+----+----+\n",
            "|col1|col2|col3|\n",
            "+----+----+----+\n",
            "|   7|   4|   1|\n",
            "|   7|   7|   9|\n",
            "|   7|   9|   6|\n",
            "|   1|   6|   5|\n",
            "|   6|   7|   7|\n",
            "|   7|   9|   4|\n",
            "|   7|  10|   6|\n",
            "|   7|   8|   2|\n",
            "|   8|   3|   8|\n",
            "|   4|  10|   5|\n",
            "|   7|   4|   5|\n",
            "|   7|   8|   4|\n",
            "|   2|   5|   1|\n",
            "|   2|   6|   2|\n",
            "|   2|   3|   8|\n",
            "|   3|   9|   1|\n",
            "|   4|   2|   9|\n",
            "|   1|   7|   1|\n",
            "|   6|   2|   3|\n",
            "|   4|   1|   9|\n",
            "+----+----+----+\n",
            "only showing top 20 rows\n",
            "\n"
          ],
          "name": "stdout"
        }
      ]
    },
    {
      "cell_type": "code",
      "metadata": {
        "id": "Abi1qXV_zZh6"
      },
      "source": [
        "BKMeans = BisectingKMeans().setK(3)\n",
        "BKMeans = BKMeans.setSeed(1)"
      ],
      "execution_count": null,
      "outputs": []
    },
    {
      "cell_type": "code",
      "metadata": {
        "id": "b5n07FTszD9Q"
      },
      "source": [
        "BKModel = BKMeans.fit(vclusterDF)"
      ],
      "execution_count": null,
      "outputs": []
    },
    {
      "cell_type": "code",
      "metadata": {
        "id": "H1NhjADDzoNL"
      },
      "source": [
        "BKCenters = BKModel.clusterCenters()"
      ],
      "execution_count": null,
      "outputs": []
    },
    {
      "cell_type": "markdown",
      "metadata": {
        "id": "u1wA8eYG0Nok"
      },
      "source": [
        "Clustering K-Means vs. Hierarchical Results"
      ]
    },
    {
      "cell_type": "code",
      "metadata": {
        "id": "2XGEUx1uzvxY",
        "outputId": "78d8f597-fc7b-469f-98c9-b88c8e301521",
        "colab": {
          "base_uri": "https://localhost:8080/"
        }
      },
      "source": [
        "# hierarchical clustering results\n",
        "BKCenters"
      ],
      "execution_count": null,
      "outputs": [
        {
          "output_type": "execute_result",
          "data": {
            "text/plain": [
              "[array([5.12, 5.84, 4.84]),\n",
              " array([35.88461538, 31.46153846, 34.42307692]),\n",
              " array([80.        , 79.20833333, 78.29166667])]"
            ]
          },
          "metadata": {
            "tags": []
          },
          "execution_count": 72
        }
      ]
    },
    {
      "cell_type": "code",
      "metadata": {
        "id": "cnZ_MI7zz1Pn",
        "outputId": "a2a90821-ce52-4b14-f3a9-6bbc60f44e4c",
        "colab": {
          "base_uri": "https://localhost:8080/"
        }
      },
      "source": [
        "# k-means clustering results\n",
        "centers"
      ],
      "execution_count": null,
      "outputs": [
        {
          "output_type": "execute_result",
          "data": {
            "text/plain": [
              "[array([35.88461538, 31.46153846, 34.42307692]),\n",
              " array([80.        , 79.20833333, 78.29166667]),\n",
              " array([5.12, 5.84, 4.84])]"
            ]
          },
          "metadata": {
            "tags": []
          },
          "execution_count": 73
        }
      ]
    },
    {
      "cell_type": "markdown",
      "metadata": {
        "id": "t_-z_IBhtfgv"
      },
      "source": [
        "## 4. Classification with Spark MLlib"
      ]
    },
    {
      "cell_type": "markdown",
      "metadata": {
        "id": "HOb3eYj7tlg1"
      },
      "source": [
        "### Preprocessing Iris.txt Example"
      ]
    },
    {
      "cell_type": "code",
      "metadata": {
        "id": "i-aTp67Gz2pI"
      },
      "source": [
        "from pyspark.sql.functions import *\n",
        "from pyspark.ml.feature import VectorAssembler\n",
        "from pyspark.ml.feature import StringIndexer"
      ],
      "execution_count": null,
      "outputs": []
    },
    {
      "cell_type": "code",
      "metadata": {
        "id": "Lx_b9FPBuXb9"
      },
      "source": [
        "irisDF = spark.read.csv(irisTxtPath, inferSchema=True)"
      ],
      "execution_count": null,
      "outputs": []
    },
    {
      "cell_type": "code",
      "metadata": {
        "id": "w7xjJDrYwXJp",
        "outputId": "4060b509-4a73-4bc8-e3d6-419c97af30d6",
        "colab": {
          "base_uri": "https://localhost:8080/"
        }
      },
      "source": [
        "# get new iris txt file to read into for example\n",
        "irisDF.columns"
      ],
      "execution_count": null,
      "outputs": [
        {
          "output_type": "execute_result",
          "data": {
            "text/plain": [
              "['_c0', '_c1', '_c2', '_c3', '_c4']"
            ]
          },
          "metadata": {
            "tags": []
          },
          "execution_count": 76
        }
      ]
    },
    {
      "cell_type": "code",
      "metadata": {
        "id": "uG3ZArTEwcgy"
      },
      "source": [
        "irisDF = irisDF.select(col('_c0').alias('sepal_length'),\n",
        "                       col('_c1').alias('sepal_width'),\n",
        "                       col('_c2').alias('petal_length'),\n",
        "                       col('_c3').alias('petal_width'),\n",
        "                       col('_c4').alias('species'))"
      ],
      "execution_count": null,
      "outputs": []
    },
    {
      "cell_type": "code",
      "metadata": {
        "id": "AZhg3zJMxDLY",
        "outputId": "142efdca-7ce3-404d-ed99-3f36b140cad3",
        "colab": {
          "base_uri": "https://localhost:8080/"
        }
      },
      "source": [
        "irisDF.take(1)"
      ],
      "execution_count": null,
      "outputs": [
        {
          "output_type": "execute_result",
          "data": {
            "text/plain": [
              "[Row(sepal_length=5.1, sepal_width=3.5, petal_length=1.4, petal_width=0.2, species='Iris-setosa')]"
            ]
          },
          "metadata": {
            "tags": []
          },
          "execution_count": 78
        }
      ]
    },
    {
      "cell_type": "code",
      "metadata": {
        "id": "9sdPO0U2w72E",
        "outputId": "43d6fb43-1f8c-4bf4-a2e7-7c12d62d2ecb",
        "colab": {
          "base_uri": "https://localhost:8080/"
        }
      },
      "source": [
        "irisDF.printSchema()"
      ],
      "execution_count": null,
      "outputs": [
        {
          "output_type": "stream",
          "text": [
            "root\n",
            " |-- sepal_length: double (nullable = true)\n",
            " |-- sepal_width: double (nullable = true)\n",
            " |-- petal_length: double (nullable = true)\n",
            " |-- petal_width: double (nullable = true)\n",
            " |-- species: string (nullable = true)\n",
            "\n"
          ],
          "name": "stdout"
        }
      ]
    },
    {
      "cell_type": "code",
      "metadata": {
        "id": "g9t-U-xJyNJ8"
      },
      "source": [
        "vectorAssembler = VectorAssembler(inputCols=['sepal_length',\n",
        "                                             'sepal_width', \n",
        "                                             'petal_length',\n",
        "                                             'petal_width'],\n",
        "                                  outputCol='features')"
      ],
      "execution_count": null,
      "outputs": []
    },
    {
      "cell_type": "code",
      "metadata": {
        "id": "9lGJLFLEyvAd",
        "outputId": "018bc0cc-c950-4725-ee60-fd65290f8369",
        "colab": {
          "base_uri": "https://localhost:8080/"
        }
      },
      "source": [
        "virisDF = vectorAssembler.transform(irisDF)\n",
        "virisDF.take(1)"
      ],
      "execution_count": null,
      "outputs": [
        {
          "output_type": "execute_result",
          "data": {
            "text/plain": [
              "[Row(sepal_length=5.1, sepal_width=3.5, petal_length=1.4, petal_width=0.2, species='Iris-setosa', features=DenseVector([5.1, 3.5, 1.4, 0.2]))]"
            ]
          },
          "metadata": {
            "tags": []
          },
          "execution_count": 81
        }
      ]
    },
    {
      "cell_type": "code",
      "metadata": {
        "id": "99qr6Fiiyztq",
        "outputId": "fda56181-655b-4083-b142-40d4f9212df6",
        "colab": {
          "base_uri": "https://localhost:8080/"
        }
      },
      "source": [
        "indexer = StringIndexer(inputCol='species', outputCol='label')\n",
        "iVirisDF = indexer.fit(virisDF).transform(virisDF)\n",
        "iVirisDF"
      ],
      "execution_count": null,
      "outputs": [
        {
          "output_type": "execute_result",
          "data": {
            "text/plain": [
              "DataFrame[sepal_length: double, sepal_width: double, petal_length: double, petal_width: double, species: string, features: vector, label: double]"
            ]
          },
          "metadata": {
            "tags": []
          },
          "execution_count": 82
        }
      ]
    },
    {
      "cell_type": "markdown",
      "metadata": {
        "id": "tcWJOfdQ2MbN"
      },
      "source": [
        "### Naive Bayes Classification"
      ]
    },
    {
      "cell_type": "code",
      "metadata": {
        "id": "j7BTmJA7Zq0I",
        "outputId": "d2704455-4536-44c7-aa5c-d7068468260a",
        "colab": {
          "base_uri": "https://localhost:8080/"
        }
      },
      "source": [
        "iVirisDF.take(1)"
      ],
      "execution_count": null,
      "outputs": [
        {
          "output_type": "execute_result",
          "data": {
            "text/plain": [
              "[Row(sepal_length=5.1, sepal_width=3.5, petal_length=1.4, petal_width=0.2, species='Iris-setosa', features=DenseVector([5.1, 3.5, 1.4, 0.2]), label=0.0)]"
            ]
          },
          "metadata": {
            "tags": []
          },
          "execution_count": 83
        }
      ]
    },
    {
      "cell_type": "code",
      "metadata": {
        "id": "AUZFSjgXZyy0"
      },
      "source": [
        "from pyspark.ml.classification import NaiveBayes\n",
        "from pyspark.ml.evaluation import MulticlassClassificationEvaluator"
      ],
      "execution_count": null,
      "outputs": []
    },
    {
      "cell_type": "code",
      "metadata": {
        "id": "sgdkquiAaCbR"
      },
      "source": [
        "splits = iVirisDF.randomSplit([0.6,0.4],1)\n",
        "trainDF = splits[0]\n",
        "testDF = splits[1]"
      ],
      "execution_count": null,
      "outputs": []
    },
    {
      "cell_type": "code",
      "metadata": {
        "id": "6mMY_A-7aeLU",
        "outputId": "a7cbeb74-7b6c-4c7f-e8b8-6a2fc979d9b2",
        "colab": {
          "base_uri": "https://localhost:8080/"
        }
      },
      "source": [
        "trainDF.count()"
      ],
      "execution_count": null,
      "outputs": [
        {
          "output_type": "execute_result",
          "data": {
            "text/plain": [
              "98"
            ]
          },
          "metadata": {
            "tags": []
          },
          "execution_count": 86
        }
      ]
    },
    {
      "cell_type": "code",
      "metadata": {
        "id": "Wwt01A2zajkR",
        "outputId": "5f6a6483-fc18-46af-e2ec-19aa1931b773",
        "colab": {
          "base_uri": "https://localhost:8080/"
        }
      },
      "source": [
        "testDF.count()"
      ],
      "execution_count": null,
      "outputs": [
        {
          "output_type": "execute_result",
          "data": {
            "text/plain": [
              "52"
            ]
          },
          "metadata": {
            "tags": []
          },
          "execution_count": 87
        }
      ]
    },
    {
      "cell_type": "code",
      "metadata": {
        "id": "7OTYPoHuamf_",
        "outputId": "3f6edbfb-1c3d-4075-d0c2-2b9ccee7ad10",
        "colab": {
          "base_uri": "https://localhost:8080/"
        }
      },
      "source": [
        "iVirisDF.count()"
      ],
      "execution_count": null,
      "outputs": [
        {
          "output_type": "execute_result",
          "data": {
            "text/plain": [
              "150"
            ]
          },
          "metadata": {
            "tags": []
          },
          "execution_count": 88
        }
      ]
    },
    {
      "cell_type": "code",
      "metadata": {
        "id": "y9Sqcg8yapYw"
      },
      "source": [
        "nb = NaiveBayes(modelType='multinomial')"
      ],
      "execution_count": null,
      "outputs": []
    },
    {
      "cell_type": "code",
      "metadata": {
        "id": "n5jwjGTwav3-"
      },
      "source": [
        "nbModel = nb.fit(trainDF)"
      ],
      "execution_count": null,
      "outputs": []
    },
    {
      "cell_type": "code",
      "metadata": {
        "id": "vNHoB8wDa4JZ"
      },
      "source": [
        "predictionsDF = nbModel.transform(testDF)"
      ],
      "execution_count": null,
      "outputs": []
    },
    {
      "cell_type": "code",
      "metadata": {
        "id": "KTiAZPbqa_r2",
        "outputId": "7fa77e36-103c-4d26-d2ac-1337ba2eecc0",
        "colab": {
          "base_uri": "https://localhost:8080/"
        }
      },
      "source": [
        "predictionsDF.take(1)"
      ],
      "execution_count": null,
      "outputs": [
        {
          "output_type": "execute_result",
          "data": {
            "text/plain": [
              "[Row(sepal_length=4.3, sepal_width=3.0, petal_length=1.1, petal_width=0.1, species='Iris-setosa', features=DenseVector([4.3, 3.0, 1.1, 0.1]), label=0.0, rawPrediction=DenseVector([-9.9894, -11.3476, -11.902]), probability=DenseVector([0.7118, 0.183, 0.1051]), prediction=0.0)]"
            ]
          },
          "metadata": {
            "tags": []
          },
          "execution_count": 92
        }
      ]
    },
    {
      "cell_type": "code",
      "metadata": {
        "id": "yf0kfyL0bgIe"
      },
      "source": [
        "evaluator = MulticlassClassificationEvaluator(labelCol='label', predictionCol='prediction', metricName='accuracy')"
      ],
      "execution_count": null,
      "outputs": []
    },
    {
      "cell_type": "code",
      "metadata": {
        "id": "wbjnOEgPb0ZW",
        "outputId": "e168483d-632d-4a17-a2bf-26f994745a48",
        "colab": {
          "base_uri": "https://localhost:8080/"
        }
      },
      "source": [
        "nbAccuracy = evaluator.evaluate(predictionsDF)\n",
        "nbAccuracy"
      ],
      "execution_count": null,
      "outputs": [
        {
          "output_type": "execute_result",
          "data": {
            "text/plain": [
              "0.9807692307692307"
            ]
          },
          "metadata": {
            "tags": []
          },
          "execution_count": 94
        }
      ]
    },
    {
      "cell_type": "markdown",
      "metadata": {
        "id": "fhQHGb_vcdeD"
      },
      "source": [
        "### Multilayer Perceptron Classification"
      ]
    },
    {
      "cell_type": "code",
      "metadata": {
        "id": "dYxWw--vcIIy",
        "outputId": "b157ebc3-c7fd-4f4f-b5fc-9139a498c5da",
        "colab": {
          "base_uri": "https://localhost:8080/"
        }
      },
      "source": [
        "iVirisDF.take(1)"
      ],
      "execution_count": null,
      "outputs": [
        {
          "output_type": "execute_result",
          "data": {
            "text/plain": [
              "[Row(sepal_length=5.1, sepal_width=3.5, petal_length=1.4, petal_width=0.2, species='Iris-setosa', features=DenseVector([5.1, 3.5, 1.4, 0.2]), label=0.0)]"
            ]
          },
          "metadata": {
            "tags": []
          },
          "execution_count": 95
        }
      ]
    },
    {
      "cell_type": "code",
      "metadata": {
        "id": "hUoST9gZcrEB",
        "outputId": "4c83c437-1c23-465b-8981-938269e29b28",
        "colab": {
          "base_uri": "https://localhost:8080/"
        }
      },
      "source": [
        "trainDF.count()"
      ],
      "execution_count": null,
      "outputs": [
        {
          "output_type": "execute_result",
          "data": {
            "text/plain": [
              "98"
            ]
          },
          "metadata": {
            "tags": []
          },
          "execution_count": 96
        }
      ]
    },
    {
      "cell_type": "code",
      "metadata": {
        "id": "EK1ClWK6cz22",
        "outputId": "a2bf3fd3-0dfc-4fba-c170-2c519a5cccda",
        "colab": {
          "base_uri": "https://localhost:8080/"
        }
      },
      "source": [
        "testDF.count()"
      ],
      "execution_count": null,
      "outputs": [
        {
          "output_type": "execute_result",
          "data": {
            "text/plain": [
              "52"
            ]
          },
          "metadata": {
            "tags": []
          },
          "execution_count": 97
        }
      ]
    },
    {
      "cell_type": "code",
      "metadata": {
        "id": "3LlXqBjuc1rF"
      },
      "source": [
        "from pyspark.ml.classification import MultilayerPerceptronClassifier"
      ],
      "execution_count": null,
      "outputs": []
    },
    {
      "cell_type": "markdown",
      "metadata": {
        "id": "COfXDYIHdled"
      },
      "source": [
        "1. First layer has the same number of nodes as there are inputs. There are four measures, so the first layer will be four. You can then create list of layers. Set the first element to be four. \n",
        "\n",
        "2. Last element should have the same number of neurons as there are types of outputs. There are three types of iris species. Last row will be three. \n",
        "\n",
        "3. You want to have layers in between to help the multi-layer perceptron learn how to classify correctly. Insert two rows of five neurons each. There is going to be a four layer multi-layer perceptron. \n",
        "\n",
        "4. First layer will have four neurons, the middle two layers will have five neurons each, and then the output layer will have three neurons. One for each kind of iris species. "
      ]
    },
    {
      "cell_type": "code",
      "metadata": {
        "id": "hUfV9SgRdCyx"
      },
      "source": [
        "layers = [4,5,5,3]"
      ],
      "execution_count": null,
      "outputs": []
    },
    {
      "cell_type": "code",
      "metadata": {
        "id": "nJ3LAvcDgZjA"
      },
      "source": [
        "mlp = MultilayerPerceptronClassifier(layers=layers, seed=1)"
      ],
      "execution_count": null,
      "outputs": []
    },
    {
      "cell_type": "code",
      "metadata": {
        "id": "3-6H5LYwgmqV"
      },
      "source": [
        "mlpModel = mlp.fit(trainDF)"
      ],
      "execution_count": null,
      "outputs": []
    },
    {
      "cell_type": "code",
      "metadata": {
        "id": "A5YDnpLFgsAj"
      },
      "source": [
        "mlpPredictions = mlpModel.transform(testDF)"
      ],
      "execution_count": null,
      "outputs": []
    },
    {
      "cell_type": "code",
      "metadata": {
        "id": "6ta8vPdGg3OC"
      },
      "source": [
        "mlpEvaluator = MulticlassClassificationEvaluator(metricName='accuracy')"
      ],
      "execution_count": null,
      "outputs": []
    },
    {
      "cell_type": "code",
      "metadata": {
        "id": "iHbczQlOhEQR"
      },
      "source": [
        "mlpAccuracy = mlpEvaluator.evaluate(mlpPredictions)"
      ],
      "execution_count": null,
      "outputs": []
    },
    {
      "cell_type": "code",
      "metadata": {
        "id": "C0mnR_6BhRbb",
        "outputId": "c5184263-c036-43a3-9197-e87337338e06",
        "colab": {
          "base_uri": "https://localhost:8080/"
        }
      },
      "source": [
        "mlpAccuracy"
      ],
      "execution_count": null,
      "outputs": [
        {
          "output_type": "execute_result",
          "data": {
            "text/plain": [
              "0.6923076923076923"
            ]
          },
          "metadata": {
            "tags": []
          },
          "execution_count": 105
        }
      ]
    },
    {
      "cell_type": "markdown",
      "metadata": {
        "id": "Pb2BspEIhZXC"
      },
      "source": [
        "### Decision Tree Classification"
      ]
    },
    {
      "cell_type": "code",
      "metadata": {
        "id": "M1jXF2w-hS0G",
        "outputId": "4e73ea1b-8485-4742-f6a6-ee07eb359e33",
        "colab": {
          "base_uri": "https://localhost:8080/"
        }
      },
      "source": [
        "iVirisDF"
      ],
      "execution_count": null,
      "outputs": [
        {
          "output_type": "execute_result",
          "data": {
            "text/plain": [
              "DataFrame[sepal_length: double, sepal_width: double, petal_length: double, petal_width: double, species: string, features: vector, label: double]"
            ]
          },
          "metadata": {
            "tags": []
          },
          "execution_count": 106
        }
      ]
    },
    {
      "cell_type": "code",
      "metadata": {
        "id": "IzztWne8hcWy",
        "outputId": "2805b3cc-6e90-4374-a755-1b9355ca725c",
        "colab": {
          "base_uri": "https://localhost:8080/"
        }
      },
      "source": [
        "iVirisDF.take(1)"
      ],
      "execution_count": null,
      "outputs": [
        {
          "output_type": "execute_result",
          "data": {
            "text/plain": [
              "[Row(sepal_length=5.1, sepal_width=3.5, petal_length=1.4, petal_width=0.2, species='Iris-setosa', features=DenseVector([5.1, 3.5, 1.4, 0.2]), label=0.0)]"
            ]
          },
          "metadata": {
            "tags": []
          },
          "execution_count": 107
        }
      ]
    },
    {
      "cell_type": "code",
      "metadata": {
        "id": "ru3Kgo5aheza"
      },
      "source": [
        "from pyspark.ml.classification import DecisionTreeClassifier"
      ],
      "execution_count": null,
      "outputs": []
    },
    {
      "cell_type": "code",
      "metadata": {
        "id": "5ZiACsx5hoRC"
      },
      "source": [
        "dt = DecisionTreeClassifier(labelCol='label', featuresCol='features')"
      ],
      "execution_count": null,
      "outputs": []
    },
    {
      "cell_type": "code",
      "metadata": {
        "id": "cckBipbkh08F"
      },
      "source": [
        "dtModel = dt.fit(trainDF)"
      ],
      "execution_count": null,
      "outputs": []
    },
    {
      "cell_type": "code",
      "metadata": {
        "id": "72_v6cI0h7hN"
      },
      "source": [
        "dtPredictions = dtModel.transform(testDF)"
      ],
      "execution_count": null,
      "outputs": []
    },
    {
      "cell_type": "code",
      "metadata": {
        "id": "PnxtJO3DiDTh"
      },
      "source": [
        "dtEvaluator = MulticlassClassificationEvaluator(labelCol='label', predictionCol='prediction', metricName='accuracy')"
      ],
      "execution_count": null,
      "outputs": []
    },
    {
      "cell_type": "code",
      "metadata": {
        "id": "TJN1ZLdViYv3",
        "outputId": "a9cafd63-e446-41e0-d0fd-95893951ba82",
        "colab": {
          "base_uri": "https://localhost:8080/"
        }
      },
      "source": [
        "dtAccuracy = dtEvaluator.evaluate(dtPredictions)\n",
        "dtAccuracy"
      ],
      "execution_count": null,
      "outputs": [
        {
          "output_type": "execute_result",
          "data": {
            "text/plain": [
              "0.9423076923076923"
            ]
          },
          "metadata": {
            "tags": []
          },
          "execution_count": 113
        }
      ]
    },
    {
      "cell_type": "markdown",
      "metadata": {
        "id": "l34TfZdri3of"
      },
      "source": [
        "### Classification Algorithms Summary\n",
        "\n",
        "1. Naive Bayes - Works well if the attributes in your data set are what is known as independent of each other (they don't tightly correlate with each other)\n",
        "\n",
        "2. Multilayer perceptron - Good choice when you have non-linear relationships between data elements\n",
        "\n",
        "3. Decision Trees - Good choice for classification for many problems and decision trees are good to start with"
      ]
    },
    {
      "cell_type": "markdown",
      "metadata": {
        "id": "r_zHobaPkZki"
      },
      "source": [
        "## 5. Regression"
      ]
    },
    {
      "cell_type": "markdown",
      "metadata": {
        "id": "mEANa4LrmJ7Q"
      },
      "source": [
        "### Preprocessing Regression Data"
      ]
    },
    {
      "cell_type": "code",
      "metadata": {
        "id": "l-inlta5iniN"
      },
      "source": [
        "powerPlantPath = '/content/drive/My Drive/Colab Notebooks/MMM_DEVELOPMENT/DATASETS/Ex_Files_Spark_ML_AI/Exercise Files/CCPP/power_plant.csv'"
      ],
      "execution_count": null,
      "outputs": []
    },
    {
      "cell_type": "code",
      "metadata": {
        "id": "J8tRSGpcn-3x"
      },
      "source": [
        "from pyspark.ml.regression import LinearRegression"
      ],
      "execution_count": null,
      "outputs": []
    },
    {
      "cell_type": "code",
      "metadata": {
        "id": "ahQfKNKDoO6R"
      },
      "source": [
        "ppDF = spark.read.csv(powerPlantPath)"
      ],
      "execution_count": null,
      "outputs": []
    },
    {
      "cell_type": "code",
      "metadata": {
        "id": "44fHA265o3su",
        "outputId": "04878be7-9a9e-445f-d338-60fc7c17cbc7",
        "colab": {
          "base_uri": "https://localhost:8080/"
        }
      },
      "source": [
        "ppDF"
      ],
      "execution_count": null,
      "outputs": [
        {
          "output_type": "execute_result",
          "data": {
            "text/plain": [
              "DataFrame[_c0: string, _c1: string, _c2: string, _c3: string, _c4: string]"
            ]
          },
          "metadata": {
            "tags": []
          },
          "execution_count": 117
        }
      ]
    },
    {
      "cell_type": "code",
      "metadata": {
        "id": "U3jAGGlioftV"
      },
      "source": [
        "ppDF = spark.read.csv(powerPlantPath, header=True, inferSchema=True)"
      ],
      "execution_count": null,
      "outputs": []
    },
    {
      "cell_type": "code",
      "metadata": {
        "id": "4CAsved4ok7g",
        "outputId": "19f71b4b-9acc-46d8-9a78-f9efed5f793a",
        "colab": {
          "base_uri": "https://localhost:8080/"
        }
      },
      "source": [
        "ppDF"
      ],
      "execution_count": null,
      "outputs": [
        {
          "output_type": "execute_result",
          "data": {
            "text/plain": [
              "DataFrame[AT: double, V: double, AP: double, RH: double, PE: double]"
            ]
          },
          "metadata": {
            "tags": []
          },
          "execution_count": 119
        }
      ]
    },
    {
      "cell_type": "code",
      "metadata": {
        "id": "gzAH5rSdo1da"
      },
      "source": [
        "from pyspark.ml.feature import VectorAssembler"
      ],
      "execution_count": null,
      "outputs": []
    },
    {
      "cell_type": "code",
      "metadata": {
        "id": "U0ZSvxdno-pJ"
      },
      "source": [
        "vectorAssembler = VectorAssembler(inputCols = ['AT', 'V', 'AP', 'RH'], outputCol='features')"
      ],
      "execution_count": null,
      "outputs": []
    },
    {
      "cell_type": "code",
      "metadata": {
        "id": "CPOd0CNspUwS",
        "outputId": "166bb831-6459-4491-93ec-7695834db64f",
        "colab": {
          "base_uri": "https://localhost:8080/"
        }
      },
      "source": [
        "vppDF = vectorAssembler.transform(ppDF)\n",
        "vppDF.take(1)"
      ],
      "execution_count": null,
      "outputs": [
        {
          "output_type": "execute_result",
          "data": {
            "text/plain": [
              "[Row(AT=14.96, V=41.76, AP=1024.07, RH=73.17, PE=463.26, features=DenseVector([14.96, 41.76, 1024.07, 73.17]))]"
            ]
          },
          "metadata": {
            "tags": []
          },
          "execution_count": 122
        }
      ]
    },
    {
      "cell_type": "code",
      "metadata": {
        "id": "FJ52FEGRpgck"
      },
      "source": [
        "lr = LinearRegression(featuresCol='features', labelCol='PE')"
      ],
      "execution_count": null,
      "outputs": []
    },
    {
      "cell_type": "code",
      "metadata": {
        "id": "gFy8mr4Bpu7e"
      },
      "source": [
        "lrModel = lr.fit(vppDF)"
      ],
      "execution_count": null,
      "outputs": []
    },
    {
      "cell_type": "code",
      "metadata": {
        "id": "xXCVQqCNp2IP",
        "outputId": "b8a1bda3-e147-47db-a0cb-32fc0e1cd57e",
        "colab": {
          "base_uri": "https://localhost:8080/"
        }
      },
      "source": [
        "# this is a list of four numbers which correspond to the coefficients \n",
        "# of the different variables that we were using to build the model\n",
        "lrModel.coefficients"
      ],
      "execution_count": null,
      "outputs": [
        {
          "output_type": "execute_result",
          "data": {
            "text/plain": [
              "DenseVector([-1.9775, -0.2339, 0.0621, -0.1581])"
            ]
          },
          "metadata": {
            "tags": []
          },
          "execution_count": 125
        }
      ]
    },
    {
      "cell_type": "code",
      "metadata": {
        "id": "S0QjwYVRqP4g",
        "outputId": "e0c96b70-3821-4be3-c397-461c5a2470e3",
        "colab": {
          "base_uri": "https://localhost:8080/"
        }
      },
      "source": [
        "# you can look at the intercept which will give you a point where\n",
        "# the line crosses the Y axis\n",
        "lrModel.intercept"
      ],
      "execution_count": null,
      "outputs": [
        {
          "output_type": "execute_result",
          "data": {
            "text/plain": [
              "454.6092744523414"
            ]
          },
          "metadata": {
            "tags": []
          },
          "execution_count": 126
        }
      ]
    },
    {
      "cell_type": "code",
      "metadata": {
        "id": "guOcFps4qhoc",
        "outputId": "be86bbee-5789-47ac-a3cc-7118b8b22cba",
        "colab": {
          "base_uri": "https://localhost:8080/"
        }
      },
      "source": [
        "# one of the important measures of the quality of a linear model is the error\n",
        "# there are different ways of measuring it, you can use the root mean squared error\n",
        "lrModel.summary.rootMeanSquaredError"
      ],
      "execution_count": null,
      "outputs": [
        {
          "output_type": "execute_result",
          "data": {
            "text/plain": [
              "4.557126016749488"
            ]
          },
          "metadata": {
            "tags": []
          },
          "execution_count": 127
        }
      ]
    },
    {
      "cell_type": "code",
      "metadata": {
        "id": "AFTBF6N7rAV_"
      },
      "source": [
        "# saving linear model for later use\n",
        "lrModel.save('lr1.model')"
      ],
      "execution_count": null,
      "outputs": []
    },
    {
      "cell_type": "code",
      "metadata": {
        "id": "Ff9at0torieT",
        "outputId": "d0aa08fa-9de9-4c42-ba82-e333af6196cb",
        "colab": {
          "base_uri": "https://localhost:8080/"
        }
      },
      "source": [
        "lrModel"
      ],
      "execution_count": null,
      "outputs": [
        {
          "output_type": "execute_result",
          "data": {
            "text/plain": [
              "LinearRegressionModel: uid=LinearRegression_c8dfa610f5b7, numFeatures=4"
            ]
          },
          "metadata": {
            "tags": []
          },
          "execution_count": 129
        }
      ]
    },
    {
      "cell_type": "markdown",
      "metadata": {
        "id": "vmOm4zvduenr"
      },
      "source": [
        "### Decision Tree Regression"
      ]
    },
    {
      "cell_type": "code",
      "metadata": {
        "id": "ighQCe1duPj0"
      },
      "source": [
        "from pyspark.ml.regression import DecisionTreeRegressor\n",
        "from pyspark.ml.evaluation import RegressionEvaluator\n",
        "from pyspark.ml.feature import VectorAssembler"
      ],
      "execution_count": null,
      "outputs": []
    },
    {
      "cell_type": "code",
      "metadata": {
        "id": "aF0VcSIzuqnT"
      },
      "source": [
        "ppDF = spark.read.csv(powerPlantPath, header=True, inferSchema=True)"
      ],
      "execution_count": null,
      "outputs": []
    },
    {
      "cell_type": "code",
      "metadata": {
        "id": "Stf8gubSvROc",
        "outputId": "1be86bed-a6e4-4682-b016-6953a7067051",
        "colab": {
          "base_uri": "https://localhost:8080/"
        }
      },
      "source": [
        "ppDF.take(1)"
      ],
      "execution_count": null,
      "outputs": [
        {
          "output_type": "execute_result",
          "data": {
            "text/plain": [
              "[Row(AT=14.96, V=41.76, AP=1024.07, RH=73.17, PE=463.26)]"
            ]
          },
          "metadata": {
            "tags": []
          },
          "execution_count": 132
        }
      ]
    },
    {
      "cell_type": "code",
      "metadata": {
        "id": "iZTMND6Pvbd8"
      },
      "source": [
        "vectorAssembler = VectorAssembler(inputCols=['AT', 'V', 'AP', 'RH'], outputCol='features')"
      ],
      "execution_count": null,
      "outputs": []
    },
    {
      "cell_type": "code",
      "metadata": {
        "id": "KwUfIqVfv201",
        "outputId": "e1f5d92b-30b4-480f-a7dd-4654ffea91eb",
        "colab": {
          "base_uri": "https://localhost:8080/"
        }
      },
      "source": [
        "vppDF = vectorAssembler.transform(ppDF)\n",
        "vppDF.take(1)"
      ],
      "execution_count": null,
      "outputs": [
        {
          "output_type": "execute_result",
          "data": {
            "text/plain": [
              "[Row(AT=14.96, V=41.76, AP=1024.07, RH=73.17, PE=463.26, features=DenseVector([14.96, 41.76, 1024.07, 73.17]))]"
            ]
          },
          "metadata": {
            "tags": []
          },
          "execution_count": 134
        }
      ]
    },
    {
      "cell_type": "code",
      "metadata": {
        "id": "z0NTDpYxwHkB"
      },
      "source": [
        "splits = vppDF.randomSplit([0.7, 0.3])"
      ],
      "execution_count": null,
      "outputs": []
    },
    {
      "cell_type": "code",
      "metadata": {
        "id": "bFojU9sTwX-v"
      },
      "source": [
        "trainDF = splits[0]\n",
        "testDF = splits[1]"
      ],
      "execution_count": null,
      "outputs": []
    },
    {
      "cell_type": "code",
      "metadata": {
        "id": "qD-Rhhi9weic",
        "outputId": "524c01a0-a9ab-4fbe-b26e-1ac877741046",
        "colab": {
          "base_uri": "https://localhost:8080/"
        }
      },
      "source": [
        "trainDF.count()"
      ],
      "execution_count": null,
      "outputs": [
        {
          "output_type": "execute_result",
          "data": {
            "text/plain": [
              "6591"
            ]
          },
          "metadata": {
            "tags": []
          },
          "execution_count": 137
        }
      ]
    },
    {
      "cell_type": "code",
      "metadata": {
        "id": "H1PlkHk2wmb5",
        "outputId": "d17e9966-f5f7-46b5-993a-f06dc4099541",
        "colab": {
          "base_uri": "https://localhost:8080/"
        }
      },
      "source": [
        "testDF.count()"
      ],
      "execution_count": null,
      "outputs": [
        {
          "output_type": "execute_result",
          "data": {
            "text/plain": [
              "2977"
            ]
          },
          "metadata": {
            "tags": []
          },
          "execution_count": 138
        }
      ]
    },
    {
      "cell_type": "code",
      "metadata": {
        "id": "esRy-1q_wnjH",
        "outputId": "dcb289f7-fff8-49e2-f9ae-205d48ade1f3",
        "colab": {
          "base_uri": "https://localhost:8080/"
        }
      },
      "source": [
        "vppDF.count()"
      ],
      "execution_count": null,
      "outputs": [
        {
          "output_type": "execute_result",
          "data": {
            "text/plain": [
              "9568"
            ]
          },
          "metadata": {
            "tags": []
          },
          "execution_count": 139
        }
      ]
    },
    {
      "cell_type": "code",
      "metadata": {
        "id": "s36dn0tnwowr"
      },
      "source": [
        "dt = DecisionTreeRegressor(featuresCol='features', labelCol='PE')"
      ],
      "execution_count": null,
      "outputs": []
    },
    {
      "cell_type": "code",
      "metadata": {
        "id": "HFLg0TKt6APC"
      },
      "source": [
        "dtModel = dt.fit(trainDF)"
      ],
      "execution_count": null,
      "outputs": []
    },
    {
      "cell_type": "code",
      "metadata": {
        "id": "vn9ODe4y65dY"
      },
      "source": [
        "dtPredictions = dtModel = dtModel.transform(testDF)"
      ],
      "execution_count": null,
      "outputs": []
    },
    {
      "cell_type": "code",
      "metadata": {
        "id": "iuI1DXkM7G0K"
      },
      "source": [
        "dtEvaluator = RegressionEvaluator(labelCol='PE', predictionCol='prediction', metricName='rmse')"
      ],
      "execution_count": null,
      "outputs": []
    },
    {
      "cell_type": "code",
      "metadata": {
        "id": "mMtiiaTY7bYe"
      },
      "source": [
        "rmse = dtEvaluator.evaluate(dtPredictions)"
      ],
      "execution_count": null,
      "outputs": []
    },
    {
      "cell_type": "code",
      "metadata": {
        "id": "GdSqSptd7mX8",
        "outputId": "f94d2960-c6d7-4da5-8b11-04391dc42a2b",
        "colab": {
          "base_uri": "https://localhost:8080/"
        }
      },
      "source": [
        "rmse"
      ],
      "execution_count": null,
      "outputs": [
        {
          "output_type": "execute_result",
          "data": {
            "text/plain": [
              "4.617704761570376"
            ]
          },
          "metadata": {
            "tags": []
          },
          "execution_count": 145
        }
      ]
    },
    {
      "cell_type": "markdown",
      "metadata": {
        "id": "WIvbX-nn7wK0"
      },
      "source": [
        "### Gradient-boosted Tree Regression"
      ]
    },
    {
      "cell_type": "code",
      "metadata": {
        "id": "GUY-nf6_7m5E"
      },
      "source": [
        "from pyspark.ml.regression import GBTRegressor"
      ],
      "execution_count": null,
      "outputs": []
    },
    {
      "cell_type": "code",
      "metadata": {
        "id": "FwRQgIsx76bn"
      },
      "source": [
        "gbt = GBTRegressor(featuresCol='features', labelCol='PE')"
      ],
      "execution_count": null,
      "outputs": []
    },
    {
      "cell_type": "code",
      "metadata": {
        "id": "XfWWVpwY8It9"
      },
      "source": [
        "gbtModel = gbt.fit(trainDF)"
      ],
      "execution_count": null,
      "outputs": []
    },
    {
      "cell_type": "code",
      "metadata": {
        "id": "fsRnt62_8Rcb"
      },
      "source": [
        "gbtPredictions = gbtModel.transform(testDF)"
      ],
      "execution_count": null,
      "outputs": []
    },
    {
      "cell_type": "code",
      "metadata": {
        "id": "IU2Esh0l8XTr"
      },
      "source": [
        "gbtEvaluator = RegressionEvaluator(labelCol='PE', predictionCol='prediction', metricName='rmse')"
      ],
      "execution_count": null,
      "outputs": []
    },
    {
      "cell_type": "code",
      "metadata": {
        "id": "X65RmIBS8o26"
      },
      "source": [
        "gbtRMSE = gbtEvaluator.evaluate(gbtPredictions)"
      ],
      "execution_count": null,
      "outputs": []
    },
    {
      "cell_type": "code",
      "metadata": {
        "id": "buGNQRyY80Uf",
        "outputId": "2a384e90-aee5-4f9e-fd2e-3a5a59f26220",
        "colab": {
          "base_uri": "https://localhost:8080/"
        }
      },
      "source": [
        "gbtRMSE"
      ],
      "execution_count": null,
      "outputs": [
        {
          "output_type": "execute_result",
          "data": {
            "text/plain": [
              "4.176800795104159"
            ]
          },
          "metadata": {
            "tags": []
          },
          "execution_count": 152
        }
      ]
    },
    {
      "cell_type": "markdown",
      "metadata": {
        "id": "sasMrSE49pDY"
      },
      "source": [
        "### Regression Algorithms Summary\n",
        "\n",
        "1. Linear Regression - In general, it's best to start with linear regression. In real-word examples, linear regression frequently gives usable, high-quality results\n",
        "\n",
        "2. Decision Tree Regression - If you have a data set that doesn't work well with linear regression, then try decision tree regression\n",
        "\n",
        "3. Gradient-boosted Tree Regression - Good choice if you need to get the best performing model possible, and you're willing to spend extra time building the model"
      ]
    },
    {
      "cell_type": "markdown",
      "metadata": {
        "id": "lt4Zu4zb-ieL"
      },
      "source": [
        "## 6. Recommendation Systems with Spark"
      ]
    },
    {
      "cell_type": "markdown",
      "metadata": {
        "id": "GD2xEOtm-sb9"
      },
      "source": [
        "### Collaborative Filtering \n",
        "\n",
        "*Collaborative Filtering Preprocessing* \n",
        "\n",
        "1. Alternating least squares\n",
        "\n",
        "2. Import ALS from pyspark.ml.recommendation\n",
        "\n",
        "3. Build a dataframe if user-item ratings\n",
        "\n",
        "*Collaborative Filtering Modeling*\n",
        "\n",
        "4. Create an ALS object (userCol, itemCol, ratingCol)\n",
        "\n",
        "5. Train model using fit, which is a part of the ALS object\n",
        "\n",
        "*Collaborative Filtering Validation*\n",
        "\n",
        "6. Create predictions using a transform of an ALS model using test data\n",
        "\n",
        "7. Create a RegressionEvaluator object\n",
        "\n",
        "8. Evaluate predictions using the evaluate function of the RegressionEvaluator"
      ]
    },
    {
      "cell_type": "code",
      "metadata": {
        "id": "BwYlClfxMy_-",
        "outputId": "8dbba4d4-4bf9-46bd-93a3-909dd2063de1",
        "colab": {
          "base_uri": "https://localhost:8080/"
        }
      },
      "source": [
        "!pip install nbconvert\n",
        "!jupyter nbconvert --to html /content/PySpark_for_Machine_Learning.ipynb"
      ],
      "execution_count": null,
      "outputs": [
        {
          "output_type": "stream",
          "text": [
            "Requirement already satisfied: nbconvert in /usr/local/lib/python3.6/dist-packages (5.6.1)\n",
            "Requirement already satisfied: traitlets>=4.2 in /usr/local/lib/python3.6/dist-packages (from nbconvert) (4.3.3)\n",
            "Requirement already satisfied: entrypoints>=0.2.2 in /usr/local/lib/python3.6/dist-packages (from nbconvert) (0.3)\n",
            "Requirement already satisfied: jinja2>=2.4 in /usr/local/lib/python3.6/dist-packages (from nbconvert) (2.11.2)\n",
            "Requirement already satisfied: jupyter-core in /usr/local/lib/python3.6/dist-packages (from nbconvert) (4.6.3)\n",
            "Requirement already satisfied: pygments in /usr/local/lib/python3.6/dist-packages (from nbconvert) (2.6.1)\n",
            "Requirement already satisfied: nbformat>=4.4 in /usr/local/lib/python3.6/dist-packages (from nbconvert) (5.0.8)\n",
            "Requirement already satisfied: testpath in /usr/local/lib/python3.6/dist-packages (from nbconvert) (0.4.4)\n",
            "Requirement already satisfied: mistune<2,>=0.8.1 in /usr/local/lib/python3.6/dist-packages (from nbconvert) (0.8.4)\n",
            "Requirement already satisfied: defusedxml in /usr/local/lib/python3.6/dist-packages (from nbconvert) (0.6.0)\n",
            "Requirement already satisfied: bleach in /usr/local/lib/python3.6/dist-packages (from nbconvert) (3.2.1)\n",
            "Requirement already satisfied: pandocfilters>=1.4.1 in /usr/local/lib/python3.6/dist-packages (from nbconvert) (1.4.3)\n",
            "Requirement already satisfied: six in /usr/local/lib/python3.6/dist-packages (from traitlets>=4.2->nbconvert) (1.15.0)\n",
            "Requirement already satisfied: ipython-genutils in /usr/local/lib/python3.6/dist-packages (from traitlets>=4.2->nbconvert) (0.2.0)\n",
            "Requirement already satisfied: decorator in /usr/local/lib/python3.6/dist-packages (from traitlets>=4.2->nbconvert) (4.4.2)\n",
            "Requirement already satisfied: MarkupSafe>=0.23 in /usr/local/lib/python3.6/dist-packages (from jinja2>=2.4->nbconvert) (1.1.1)\n",
            "Requirement already satisfied: jsonschema!=2.5.0,>=2.4 in /usr/local/lib/python3.6/dist-packages (from nbformat>=4.4->nbconvert) (2.6.0)\n",
            "Requirement already satisfied: packaging in /usr/local/lib/python3.6/dist-packages (from bleach->nbconvert) (20.4)\n",
            "Requirement already satisfied: webencodings in /usr/local/lib/python3.6/dist-packages (from bleach->nbconvert) (0.5.1)\n",
            "Requirement already satisfied: pyparsing>=2.0.2 in /usr/local/lib/python3.6/dist-packages (from packaging->bleach->nbconvert) (2.4.7)\n",
            "[NbConvertApp] WARNING | pattern u'/content/PySpark_for_Machine_Learning.ipynb' matched no files\n",
            "This application is used to convert notebook files (*.ipynb) to various other\n",
            "formats.\n",
            "\n",
            "WARNING: THE COMMANDLINE INTERFACE MAY CHANGE IN FUTURE RELEASES.\n",
            "\n",
            "Options\n",
            "-------\n",
            "\n",
            "Arguments that take values are actually convenience aliases to full\n",
            "Configurables, whose aliases are listed on the help line. For more information\n",
            "on full configurables, see '--help-all'.\n",
            "\n",
            "--execute\n",
            "    Execute the notebook prior to export.\n",
            "--allow-errors\n",
            "    Continue notebook execution even if one of the cells throws an error and include the error message in the cell output (the default behaviour is to abort conversion). This flag is only relevant if '--execute' was specified, too.\n",
            "--no-input\n",
            "    Exclude input cells and output prompts from converted document. \n",
            "    This mode is ideal for generating code-free reports.\n",
            "--stdout\n",
            "    Write notebook output to stdout instead of files.\n",
            "--stdin\n",
            "    read a single notebook file from stdin. Write the resulting notebook with default basename 'notebook.*'\n",
            "--inplace\n",
            "    Run nbconvert in place, overwriting the existing notebook (only \n",
            "    relevant when converting to notebook format)\n",
            "-y\n",
            "    Answer yes to any questions instead of prompting.\n",
            "--clear-output\n",
            "    Clear output of current file and save in place, \n",
            "    overwriting the existing notebook.\n",
            "--debug\n",
            "    set log level to logging.DEBUG (maximize logging output)\n",
            "--no-prompt\n",
            "    Exclude input and output prompts from converted document.\n",
            "--generate-config\n",
            "    generate default config file\n",
            "--nbformat=<Enum> (NotebookExporter.nbformat_version)\n",
            "    Default: 4\n",
            "    Choices: [1, 2, 3, 4]\n",
            "    The nbformat version to write. Use this to downgrade notebooks.\n",
            "--output-dir=<Unicode> (FilesWriter.build_directory)\n",
            "    Default: ''\n",
            "    Directory to write output(s) to. Defaults to output to the directory of each\n",
            "    notebook. To recover previous default behaviour (outputting to the current\n",
            "    working directory) use . as the flag value.\n",
            "--writer=<DottedObjectName> (NbConvertApp.writer_class)\n",
            "    Default: 'FilesWriter'\n",
            "    Writer class used to write the  results of the conversion\n",
            "--log-level=<Enum> (Application.log_level)\n",
            "    Default: 30\n",
            "    Choices: (0, 10, 20, 30, 40, 50, 'DEBUG', 'INFO', 'WARN', 'ERROR', 'CRITICAL')\n",
            "    Set the log level by value or name.\n",
            "--reveal-prefix=<Unicode> (SlidesExporter.reveal_url_prefix)\n",
            "    Default: u''\n",
            "    The URL prefix for reveal.js (version 3.x). This defaults to the reveal CDN,\n",
            "    but can be any url pointing to a copy  of reveal.js.\n",
            "    For speaker notes to work, this must be a relative path to a local  copy of\n",
            "    reveal.js: e.g., \"reveal.js\".\n",
            "    If a relative path is given, it must be a subdirectory of the current\n",
            "    directory (from which the server is run).\n",
            "    See the usage documentation\n",
            "    (https://nbconvert.readthedocs.io/en/latest/usage.html#reveal-js-html-\n",
            "    slideshow) for more details.\n",
            "--to=<Unicode> (NbConvertApp.export_format)\n",
            "    Default: 'html'\n",
            "    The export format to be used, either one of the built-in formats\n",
            "    ['asciidoc', 'custom', 'html', 'latex', 'markdown', 'notebook', 'pdf',\n",
            "    'python', 'rst', 'script', 'slides'] or a dotted object name that represents\n",
            "    the import path for an `Exporter` class\n",
            "--template=<Unicode> (TemplateExporter.template_file)\n",
            "    Default: u''\n",
            "    Name of the template file to use\n",
            "--output=<Unicode> (NbConvertApp.output_base)\n",
            "    Default: ''\n",
            "    overwrite base name use for output files. can only be used when converting\n",
            "    one notebook at a time.\n",
            "--post=<DottedOrNone> (NbConvertApp.postprocessor_class)\n",
            "    Default: u''\n",
            "    PostProcessor class used to write the results of the conversion\n",
            "--config=<Unicode> (JupyterApp.config_file)\n",
            "    Default: u''\n",
            "    Full path of a config file.\n",
            "\n",
            "To see all available configurables, use `--help-all`\n",
            "\n",
            "Examples\n",
            "--------\n",
            "\n",
            "    The simplest way to use nbconvert is\n",
            "    \n",
            "    > jupyter nbconvert mynotebook.ipynb\n",
            "    \n",
            "    which will convert mynotebook.ipynb to the default format (probably HTML).\n",
            "    \n",
            "    You can specify the export format with `--to`.\n",
            "    Options include ['asciidoc', 'custom', 'html', 'latex', 'markdown', 'notebook', 'pdf', 'python', 'rst', 'script', 'slides'].\n",
            "    \n",
            "    > jupyter nbconvert --to latex mynotebook.ipynb\n",
            "    \n",
            "    Both HTML and LaTeX support multiple output templates. LaTeX includes\n",
            "    'base', 'article' and 'report'.  HTML includes 'basic' and 'full'. You\n",
            "    can specify the flavor of the format used.\n",
            "    \n",
            "    > jupyter nbconvert --to html --template basic mynotebook.ipynb\n",
            "    \n",
            "    You can also pipe the output to stdout, rather than a file\n",
            "    \n",
            "    > jupyter nbconvert mynotebook.ipynb --stdout\n",
            "    \n",
            "    PDF is generated via latex\n",
            "    \n",
            "    > jupyter nbconvert mynotebook.ipynb --to pdf\n",
            "    \n",
            "    You can get (and serve) a Reveal.js-powered slideshow\n",
            "    \n",
            "    > jupyter nbconvert myslides.ipynb --to slides --post serve\n",
            "    \n",
            "    Multiple notebooks can be given at the command line in a couple of \n",
            "    different ways:\n",
            "    \n",
            "    > jupyter nbconvert notebook*.ipynb\n",
            "    > jupyter nbconvert notebook1.ipynb notebook2.ipynb\n",
            "    \n",
            "    or you can specify the notebooks list in a config file, containing::\n",
            "    \n",
            "        c.NbConvertApp.notebooks = [\"my_notebook.ipynb\"]\n",
            "    \n",
            "    > jupyter nbconvert --config mycfg.py\n",
            "\n"
          ],
          "name": "stdout"
        }
      ]
    },
    {
      "cell_type": "code",
      "metadata": {
        "id": "L_aa3KC0M9Os"
      },
      "source": [],
      "execution_count": null,
      "outputs": []
    }
  ]
}